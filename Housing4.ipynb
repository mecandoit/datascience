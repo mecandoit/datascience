{
 "cells": [
  {
   "cell_type": "code",
   "execution_count": 1,
   "metadata": {
    "collapsed": true
   },
   "outputs": [],
   "source": [
    "#Predicting house prices using Linear Regression and GBR. The tutorial and write up for the code can be found here https://medium.com/towards-data-science/create-a-model-to-predict-house-prices-using-python-d34fe8fad88f"
   ]
  },
  {
   "cell_type": "code",
   "execution_count": 2,
   "metadata": {
    "collapsed": true
   },
   "outputs": [],
   "source": [
    "import numpy as np\n",
    "import pandas as pd\n",
    "import matplotlib.pyplot as plt\n",
    "import seaborn as sns\n",
    "import mpl_toolkits\n",
    "%matplotlib inline"
   ]
  },
  {
   "cell_type": "code",
   "execution_count": 3,
   "metadata": {
    "collapsed": true
   },
   "outputs": [],
   "source": [
    "HDB = pd.read_csv(\"/Users/paulinekoh/Desktop/DataScience/Project/resale-flat-prices/resale-flat-prices-based-on-registration-date-from-march-2012-onwards.csv\")"
   ]
  },
  {
   "cell_type": "code",
   "execution_count": 4,
   "metadata": {},
   "outputs": [
    {
     "data": {
      "text/html": [
       "<div>\n",
       "<style>\n",
       "    .dataframe thead tr:only-child th {\n",
       "        text-align: right;\n",
       "    }\n",
       "\n",
       "    .dataframe thead th {\n",
       "        text-align: left;\n",
       "    }\n",
       "\n",
       "    .dataframe tbody tr th {\n",
       "        vertical-align: top;\n",
       "    }\n",
       "</style>\n",
       "<table border=\"1\" class=\"dataframe\">\n",
       "  <thead>\n",
       "    <tr style=\"text-align: right;\">\n",
       "      <th></th>\n",
       "      <th>month</th>\n",
       "      <th>town</th>\n",
       "      <th>flat_type</th>\n",
       "      <th>block</th>\n",
       "      <th>street_name</th>\n",
       "      <th>storey_range</th>\n",
       "      <th>floor_area_sqm</th>\n",
       "      <th>flat_model</th>\n",
       "      <th>lease_commence_date</th>\n",
       "      <th>resale_price</th>\n",
       "    </tr>\n",
       "  </thead>\n",
       "  <tbody>\n",
       "    <tr>\n",
       "      <th>0</th>\n",
       "      <td>2012-03</td>\n",
       "      <td>ANG MO KIO</td>\n",
       "      <td>2 ROOM</td>\n",
       "      <td>172</td>\n",
       "      <td>ANG MO KIO AVE 4</td>\n",
       "      <td>06 TO 10</td>\n",
       "      <td>45.0</td>\n",
       "      <td>Improved</td>\n",
       "      <td>1986</td>\n",
       "      <td>250000.0</td>\n",
       "    </tr>\n",
       "    <tr>\n",
       "      <th>1</th>\n",
       "      <td>2012-03</td>\n",
       "      <td>ANG MO KIO</td>\n",
       "      <td>2 ROOM</td>\n",
       "      <td>510</td>\n",
       "      <td>ANG MO KIO AVE 8</td>\n",
       "      <td>01 TO 05</td>\n",
       "      <td>44.0</td>\n",
       "      <td>Improved</td>\n",
       "      <td>1980</td>\n",
       "      <td>265000.0</td>\n",
       "    </tr>\n",
       "    <tr>\n",
       "      <th>2</th>\n",
       "      <td>2012-03</td>\n",
       "      <td>ANG MO KIO</td>\n",
       "      <td>3 ROOM</td>\n",
       "      <td>610</td>\n",
       "      <td>ANG MO KIO AVE 4</td>\n",
       "      <td>06 TO 10</td>\n",
       "      <td>68.0</td>\n",
       "      <td>New Generation</td>\n",
       "      <td>1980</td>\n",
       "      <td>315000.0</td>\n",
       "    </tr>\n",
       "    <tr>\n",
       "      <th>3</th>\n",
       "      <td>2012-03</td>\n",
       "      <td>ANG MO KIO</td>\n",
       "      <td>3 ROOM</td>\n",
       "      <td>474</td>\n",
       "      <td>ANG MO KIO AVE 10</td>\n",
       "      <td>01 TO 05</td>\n",
       "      <td>67.0</td>\n",
       "      <td>New Generation</td>\n",
       "      <td>1984</td>\n",
       "      <td>320000.0</td>\n",
       "    </tr>\n",
       "    <tr>\n",
       "      <th>4</th>\n",
       "      <td>2012-03</td>\n",
       "      <td>ANG MO KIO</td>\n",
       "      <td>3 ROOM</td>\n",
       "      <td>604</td>\n",
       "      <td>ANG MO KIO AVE 5</td>\n",
       "      <td>06 TO 10</td>\n",
       "      <td>67.0</td>\n",
       "      <td>New Generation</td>\n",
       "      <td>1980</td>\n",
       "      <td>321000.0</td>\n",
       "    </tr>\n",
       "  </tbody>\n",
       "</table>\n",
       "</div>"
      ],
      "text/plain": [
       "     month        town flat_type block        street_name storey_range  \\\n",
       "0  2012-03  ANG MO KIO    2 ROOM   172   ANG MO KIO AVE 4     06 TO 10   \n",
       "1  2012-03  ANG MO KIO    2 ROOM   510   ANG MO KIO AVE 8     01 TO 05   \n",
       "2  2012-03  ANG MO KIO    3 ROOM   610   ANG MO KIO AVE 4     06 TO 10   \n",
       "3  2012-03  ANG MO KIO    3 ROOM   474  ANG MO KIO AVE 10     01 TO 05   \n",
       "4  2012-03  ANG MO KIO    3 ROOM   604   ANG MO KIO AVE 5     06 TO 10   \n",
       "\n",
       "   floor_area_sqm      flat_model  lease_commence_date  resale_price  \n",
       "0            45.0        Improved                 1986      250000.0  \n",
       "1            44.0        Improved                 1980      265000.0  \n",
       "2            68.0  New Generation                 1980      315000.0  \n",
       "3            67.0  New Generation                 1984      320000.0  \n",
       "4            67.0  New Generation                 1980      321000.0  "
      ]
     },
     "execution_count": 4,
     "metadata": {},
     "output_type": "execute_result"
    }
   ],
   "source": [
    "HDB.head()"
   ]
  },
  {
   "cell_type": "code",
   "execution_count": 5,
   "metadata": {},
   "outputs": [
    {
     "name": "stdout",
     "output_type": "stream",
     "text": [
      "<class 'pandas.core.frame.DataFrame'>\n",
      "RangeIndex: 102100 entries, 0 to 102099\n",
      "Data columns (total 10 columns):\n",
      "month                  102100 non-null object\n",
      "town                   102100 non-null object\n",
      "flat_type              102100 non-null object\n",
      "block                  102100 non-null object\n",
      "street_name            102100 non-null object\n",
      "storey_range           102100 non-null object\n",
      "floor_area_sqm         102100 non-null float64\n",
      "flat_model             102100 non-null object\n",
      "lease_commence_date    102100 non-null int64\n",
      "resale_price           102100 non-null float64\n",
      "dtypes: float64(2), int64(1), object(7)\n",
      "memory usage: 7.8+ MB\n"
     ]
    }
   ],
   "source": [
    "HDB.info()"
   ]
  },
  {
   "cell_type": "code",
   "execution_count": 6,
   "metadata": {},
   "outputs": [
    {
     "data": {
      "text/html": [
       "<div>\n",
       "<style>\n",
       "    .dataframe thead tr:only-child th {\n",
       "        text-align: right;\n",
       "    }\n",
       "\n",
       "    .dataframe thead th {\n",
       "        text-align: left;\n",
       "    }\n",
       "\n",
       "    .dataframe tbody tr th {\n",
       "        vertical-align: top;\n",
       "    }\n",
       "</style>\n",
       "<table border=\"1\" class=\"dataframe\">\n",
       "  <thead>\n",
       "    <tr style=\"text-align: right;\">\n",
       "      <th></th>\n",
       "      <th>month</th>\n",
       "      <th>town</th>\n",
       "      <th>flat_type</th>\n",
       "      <th>block</th>\n",
       "      <th>street_name</th>\n",
       "      <th>storey_range</th>\n",
       "      <th>floor_area_sqm</th>\n",
       "      <th>flat_model</th>\n",
       "      <th>lease_commence_date</th>\n",
       "      <th>resale_price</th>\n",
       "      <th>resale_price_per_sqm</th>\n",
       "    </tr>\n",
       "  </thead>\n",
       "  <tbody>\n",
       "    <tr>\n",
       "      <th>0</th>\n",
       "      <td>2012-03</td>\n",
       "      <td>ANG MO KIO</td>\n",
       "      <td>2 ROOM</td>\n",
       "      <td>172</td>\n",
       "      <td>ANG MO KIO AVE 4</td>\n",
       "      <td>06 TO 10</td>\n",
       "      <td>45.0</td>\n",
       "      <td>Improved</td>\n",
       "      <td>1986</td>\n",
       "      <td>250000.0</td>\n",
       "      <td>5555.555556</td>\n",
       "    </tr>\n",
       "    <tr>\n",
       "      <th>1</th>\n",
       "      <td>2012-03</td>\n",
       "      <td>ANG MO KIO</td>\n",
       "      <td>2 ROOM</td>\n",
       "      <td>510</td>\n",
       "      <td>ANG MO KIO AVE 8</td>\n",
       "      <td>01 TO 05</td>\n",
       "      <td>44.0</td>\n",
       "      <td>Improved</td>\n",
       "      <td>1980</td>\n",
       "      <td>265000.0</td>\n",
       "      <td>6022.727273</td>\n",
       "    </tr>\n",
       "    <tr>\n",
       "      <th>2</th>\n",
       "      <td>2012-03</td>\n",
       "      <td>ANG MO KIO</td>\n",
       "      <td>3 ROOM</td>\n",
       "      <td>610</td>\n",
       "      <td>ANG MO KIO AVE 4</td>\n",
       "      <td>06 TO 10</td>\n",
       "      <td>68.0</td>\n",
       "      <td>New Generation</td>\n",
       "      <td>1980</td>\n",
       "      <td>315000.0</td>\n",
       "      <td>4632.352941</td>\n",
       "    </tr>\n",
       "    <tr>\n",
       "      <th>3</th>\n",
       "      <td>2012-03</td>\n",
       "      <td>ANG MO KIO</td>\n",
       "      <td>3 ROOM</td>\n",
       "      <td>474</td>\n",
       "      <td>ANG MO KIO AVE 10</td>\n",
       "      <td>01 TO 05</td>\n",
       "      <td>67.0</td>\n",
       "      <td>New Generation</td>\n",
       "      <td>1984</td>\n",
       "      <td>320000.0</td>\n",
       "      <td>4776.119403</td>\n",
       "    </tr>\n",
       "    <tr>\n",
       "      <th>4</th>\n",
       "      <td>2012-03</td>\n",
       "      <td>ANG MO KIO</td>\n",
       "      <td>3 ROOM</td>\n",
       "      <td>604</td>\n",
       "      <td>ANG MO KIO AVE 5</td>\n",
       "      <td>06 TO 10</td>\n",
       "      <td>67.0</td>\n",
       "      <td>New Generation</td>\n",
       "      <td>1980</td>\n",
       "      <td>321000.0</td>\n",
       "      <td>4791.044776</td>\n",
       "    </tr>\n",
       "  </tbody>\n",
       "</table>\n",
       "</div>"
      ],
      "text/plain": [
       "     month        town flat_type block        street_name storey_range  \\\n",
       "0  2012-03  ANG MO KIO    2 ROOM   172   ANG MO KIO AVE 4     06 TO 10   \n",
       "1  2012-03  ANG MO KIO    2 ROOM   510   ANG MO KIO AVE 8     01 TO 05   \n",
       "2  2012-03  ANG MO KIO    3 ROOM   610   ANG MO KIO AVE 4     06 TO 10   \n",
       "3  2012-03  ANG MO KIO    3 ROOM   474  ANG MO KIO AVE 10     01 TO 05   \n",
       "4  2012-03  ANG MO KIO    3 ROOM   604   ANG MO KIO AVE 5     06 TO 10   \n",
       "\n",
       "   floor_area_sqm      flat_model  lease_commence_date  resale_price  \\\n",
       "0            45.0        Improved                 1986      250000.0   \n",
       "1            44.0        Improved                 1980      265000.0   \n",
       "2            68.0  New Generation                 1980      315000.0   \n",
       "3            67.0  New Generation                 1984      320000.0   \n",
       "4            67.0  New Generation                 1980      321000.0   \n",
       "\n",
       "   resale_price_per_sqm  \n",
       "0           5555.555556  \n",
       "1           6022.727273  \n",
       "2           4632.352941  \n",
       "3           4776.119403  \n",
       "4           4791.044776  "
      ]
     },
     "execution_count": 6,
     "metadata": {},
     "output_type": "execute_result"
    }
   ],
   "source": [
    "# create a new column for Price per sqm\n",
    "HDB['resale_price_per_sqm'] = HDB.resale_price / HDB.floor_area_sqm\n",
    "HDB.head()"
   ]
  },
  {
   "cell_type": "code",
   "execution_count": 7,
   "metadata": {
    "collapsed": true
   },
   "outputs": [],
   "source": [
    "# remove the block column\n",
    "HDB.drop('block', axis=1, inplace=True)"
   ]
  },
  {
   "cell_type": "code",
   "execution_count": 8,
   "metadata": {
    "collapsed": true
   },
   "outputs": [],
   "source": [
    "# remove the street_name column\n",
    "HDB.drop('street_name', axis=1, inplace=True)"
   ]
  },
  {
   "cell_type": "code",
   "execution_count": 9,
   "metadata": {
    "collapsed": true
   },
   "outputs": [],
   "source": [
    "# map categorical data to numeric data\n",
    "HDB['flat_type_num'] = HDB.flat_type.map({'1 ROOM':1, '2 ROOM':2, '3 ROOM':3, '4 ROOM':4, '5 ROOM':5, 'EXECUTIVE':6, 'MULTI-GENERATION':7})"
   ]
  },
  {
   "cell_type": "code",
   "execution_count": 10,
   "metadata": {
    "collapsed": true
   },
   "outputs": [],
   "source": [
    "#  map categorical data to numeric data. using a lambda/ anonymous function to convert a column\n",
    "HDB[\"lower_floor\"] = HDB.storey_range.apply(lambda x: int(x.split(\" \")[0]))"
   ]
  },
  {
   "cell_type": "code",
   "execution_count": 11,
   "metadata": {
    "collapsed": true
   },
   "outputs": [],
   "source": [
    "# map categorical data to numeric data. having the upper storey in a separate column\n",
    "def get_upper_story(s):\n",
    "    return int(s.split(\" \")[-1])"
   ]
  },
  {
   "cell_type": "code",
   "execution_count": 12,
   "metadata": {
    "collapsed": true
   },
   "outputs": [],
   "source": [
    "HDB[\"upper_floor\"] = HDB.storey_range.apply(get_upper_story)"
   ]
  },
  {
   "cell_type": "code",
   "execution_count": 13,
   "metadata": {
    "collapsed": true
   },
   "outputs": [],
   "source": [
    "# map categorical data to numeric data\n",
    "from sklearn.preprocessing import LabelEncoder\n",
    "encoder = LabelEncoder()\n",
    "HDB['flat_model_encode'] = encoder.fit_transform(HDB.flat_model)\n",
    "HDB['town_encode'] = encoder.fit_transform(HDB.town)\n",
    "HDB['year_month_encode'] = encoder.fit_transform(HDB.month)"
   ]
  },
  {
   "cell_type": "code",
   "execution_count": 14,
   "metadata": {},
   "outputs": [
    {
     "data": {
      "text/html": [
       "<div>\n",
       "<style>\n",
       "    .dataframe thead tr:only-child th {\n",
       "        text-align: right;\n",
       "    }\n",
       "\n",
       "    .dataframe thead th {\n",
       "        text-align: left;\n",
       "    }\n",
       "\n",
       "    .dataframe tbody tr th {\n",
       "        vertical-align: top;\n",
       "    }\n",
       "</style>\n",
       "<table border=\"1\" class=\"dataframe\">\n",
       "  <thead>\n",
       "    <tr style=\"text-align: right;\">\n",
       "      <th></th>\n",
       "      <th>month</th>\n",
       "      <th>town</th>\n",
       "      <th>flat_type</th>\n",
       "      <th>storey_range</th>\n",
       "      <th>floor_area_sqm</th>\n",
       "      <th>flat_model</th>\n",
       "      <th>lease_commence_date</th>\n",
       "      <th>resale_price</th>\n",
       "      <th>resale_price_per_sqm</th>\n",
       "      <th>flat_type_num</th>\n",
       "      <th>lower_floor</th>\n",
       "      <th>upper_floor</th>\n",
       "      <th>flat_model_encode</th>\n",
       "      <th>town_encode</th>\n",
       "      <th>year_month_encode</th>\n",
       "    </tr>\n",
       "  </thead>\n",
       "  <tbody>\n",
       "    <tr>\n",
       "      <th>0</th>\n",
       "      <td>2012-03</td>\n",
       "      <td>ANG MO KIO</td>\n",
       "      <td>2 ROOM</td>\n",
       "      <td>06 TO 10</td>\n",
       "      <td>45.0</td>\n",
       "      <td>Improved</td>\n",
       "      <td>1986</td>\n",
       "      <td>250000.0</td>\n",
       "      <td>5555.555556</td>\n",
       "      <td>2</td>\n",
       "      <td>6</td>\n",
       "      <td>10</td>\n",
       "      <td>4</td>\n",
       "      <td>0</td>\n",
       "      <td>0</td>\n",
       "    </tr>\n",
       "    <tr>\n",
       "      <th>1</th>\n",
       "      <td>2012-03</td>\n",
       "      <td>ANG MO KIO</td>\n",
       "      <td>2 ROOM</td>\n",
       "      <td>01 TO 05</td>\n",
       "      <td>44.0</td>\n",
       "      <td>Improved</td>\n",
       "      <td>1980</td>\n",
       "      <td>265000.0</td>\n",
       "      <td>6022.727273</td>\n",
       "      <td>2</td>\n",
       "      <td>1</td>\n",
       "      <td>5</td>\n",
       "      <td>4</td>\n",
       "      <td>0</td>\n",
       "      <td>0</td>\n",
       "    </tr>\n",
       "    <tr>\n",
       "      <th>2</th>\n",
       "      <td>2012-03</td>\n",
       "      <td>ANG MO KIO</td>\n",
       "      <td>3 ROOM</td>\n",
       "      <td>06 TO 10</td>\n",
       "      <td>68.0</td>\n",
       "      <td>New Generation</td>\n",
       "      <td>1980</td>\n",
       "      <td>315000.0</td>\n",
       "      <td>4632.352941</td>\n",
       "      <td>3</td>\n",
       "      <td>6</td>\n",
       "      <td>10</td>\n",
       "      <td>11</td>\n",
       "      <td>0</td>\n",
       "      <td>0</td>\n",
       "    </tr>\n",
       "    <tr>\n",
       "      <th>3</th>\n",
       "      <td>2012-03</td>\n",
       "      <td>ANG MO KIO</td>\n",
       "      <td>3 ROOM</td>\n",
       "      <td>01 TO 05</td>\n",
       "      <td>67.0</td>\n",
       "      <td>New Generation</td>\n",
       "      <td>1984</td>\n",
       "      <td>320000.0</td>\n",
       "      <td>4776.119403</td>\n",
       "      <td>3</td>\n",
       "      <td>1</td>\n",
       "      <td>5</td>\n",
       "      <td>11</td>\n",
       "      <td>0</td>\n",
       "      <td>0</td>\n",
       "    </tr>\n",
       "    <tr>\n",
       "      <th>4</th>\n",
       "      <td>2012-03</td>\n",
       "      <td>ANG MO KIO</td>\n",
       "      <td>3 ROOM</td>\n",
       "      <td>06 TO 10</td>\n",
       "      <td>67.0</td>\n",
       "      <td>New Generation</td>\n",
       "      <td>1980</td>\n",
       "      <td>321000.0</td>\n",
       "      <td>4791.044776</td>\n",
       "      <td>3</td>\n",
       "      <td>6</td>\n",
       "      <td>10</td>\n",
       "      <td>11</td>\n",
       "      <td>0</td>\n",
       "      <td>0</td>\n",
       "    </tr>\n",
       "  </tbody>\n",
       "</table>\n",
       "</div>"
      ],
      "text/plain": [
       "     month        town flat_type storey_range  floor_area_sqm      flat_model  \\\n",
       "0  2012-03  ANG MO KIO    2 ROOM     06 TO 10            45.0        Improved   \n",
       "1  2012-03  ANG MO KIO    2 ROOM     01 TO 05            44.0        Improved   \n",
       "2  2012-03  ANG MO KIO    3 ROOM     06 TO 10            68.0  New Generation   \n",
       "3  2012-03  ANG MO KIO    3 ROOM     01 TO 05            67.0  New Generation   \n",
       "4  2012-03  ANG MO KIO    3 ROOM     06 TO 10            67.0  New Generation   \n",
       "\n",
       "   lease_commence_date  resale_price  resale_price_per_sqm  flat_type_num  \\\n",
       "0                 1986      250000.0           5555.555556              2   \n",
       "1                 1980      265000.0           6022.727273              2   \n",
       "2                 1980      315000.0           4632.352941              3   \n",
       "3                 1984      320000.0           4776.119403              3   \n",
       "4                 1980      321000.0           4791.044776              3   \n",
       "\n",
       "   lower_floor  upper_floor  flat_model_encode  town_encode  year_month_encode  \n",
       "0            6           10                  4            0                  0  \n",
       "1            1            5                  4            0                  0  \n",
       "2            6           10                 11            0                  0  \n",
       "3            1            5                 11            0                  0  \n",
       "4            6           10                 11            0                  0  "
      ]
     },
     "execution_count": 14,
     "metadata": {},
     "output_type": "execute_result"
    }
   ],
   "source": [
    "HDB.head()"
   ]
  },
  {
   "cell_type": "code",
   "execution_count": 15,
   "metadata": {},
   "outputs": [
    {
     "name": "stdout",
     "output_type": "stream",
     "text": [
      "<class 'pandas.core.frame.DataFrame'>\n",
      "RangeIndex: 102100 entries, 0 to 102099\n",
      "Data columns (total 15 columns):\n",
      "month                   102100 non-null object\n",
      "town                    102100 non-null object\n",
      "flat_type               102100 non-null object\n",
      "storey_range            102100 non-null object\n",
      "floor_area_sqm          102100 non-null float64\n",
      "flat_model              102100 non-null object\n",
      "lease_commence_date     102100 non-null int64\n",
      "resale_price            102100 non-null float64\n",
      "resale_price_per_sqm    102100 non-null float64\n",
      "flat_type_num           102100 non-null int64\n",
      "lower_floor             102100 non-null int64\n",
      "upper_floor             102100 non-null int64\n",
      "flat_model_encode       102100 non-null int64\n",
      "town_encode             102100 non-null int64\n",
      "year_month_encode       102100 non-null int64\n",
      "dtypes: float64(3), int64(7), object(5)\n",
      "memory usage: 11.7+ MB\n"
     ]
    }
   ],
   "source": [
    "HDB.info()"
   ]
  },
  {
   "cell_type": "code",
   "execution_count": 16,
   "metadata": {},
   "outputs": [
    {
     "data": {
      "text/plain": [
       "JURONG WEST        8270\n",
       "WOODLANDS          8042\n",
       "TAMPINES           7323\n",
       "SENGKANG           6668\n",
       "BEDOK              6592\n",
       "YISHUN             6538\n",
       "HOUGANG            5216\n",
       "ANG MO KIO         5014\n",
       "CHOA CHU KANG      4320\n",
       "BUKIT BATOK        4127\n",
       "BUKIT MERAH        4016\n",
       "PUNGGOL            3701\n",
       "BUKIT PANJANG      3562\n",
       "PASIR RIS          3379\n",
       "TOA PAYOH          3236\n",
       "KALLANG/WHAMPOA    3098\n",
       "GEYLANG            2888\n",
       "QUEENSTOWN         2767\n",
       "SEMBAWANG          2566\n",
       "CLEMENTI           2526\n",
       "JURONG EAST        2337\n",
       "SERANGOON          2245\n",
       "BISHAN             1896\n",
       "CENTRAL AREA        849\n",
       "MARINE PARADE       704\n",
       "BUKIT TIMAH         220\n",
       "Name: town, dtype: int64"
      ]
     },
     "execution_count": 16,
     "metadata": {},
     "output_type": "execute_result"
    }
   ],
   "source": [
    "HDB.town.value_counts()"
   ]
  },
  {
   "cell_type": "markdown",
   "metadata": {},
   "source": [
    "What are the average Floor Area Sqm, Lease commence_date and Resale_Price?"
   ]
  },
  {
   "cell_type": "code",
   "execution_count": 17,
   "metadata": {},
   "outputs": [
    {
     "data": {
      "text/html": [
       "<div>\n",
       "<style>\n",
       "    .dataframe thead tr:only-child th {\n",
       "        text-align: right;\n",
       "    }\n",
       "\n",
       "    .dataframe thead th {\n",
       "        text-align: left;\n",
       "    }\n",
       "\n",
       "    .dataframe tbody tr th {\n",
       "        vertical-align: top;\n",
       "    }\n",
       "</style>\n",
       "<table border=\"1\" class=\"dataframe\">\n",
       "  <thead>\n",
       "    <tr style=\"text-align: right;\">\n",
       "      <th></th>\n",
       "      <th>floor_area_sqm</th>\n",
       "      <th>lease_commence_date</th>\n",
       "      <th>resale_price</th>\n",
       "      <th>resale_price_per_sqm</th>\n",
       "      <th>flat_type_num</th>\n",
       "      <th>lower_floor</th>\n",
       "      <th>upper_floor</th>\n",
       "      <th>flat_model_encode</th>\n",
       "      <th>town_encode</th>\n",
       "      <th>year_month_encode</th>\n",
       "    </tr>\n",
       "    <tr>\n",
       "      <th>town</th>\n",
       "      <th></th>\n",
       "      <th></th>\n",
       "      <th></th>\n",
       "      <th></th>\n",
       "      <th></th>\n",
       "      <th></th>\n",
       "      <th></th>\n",
       "      <th></th>\n",
       "      <th></th>\n",
       "      <th></th>\n",
       "    </tr>\n",
       "  </thead>\n",
       "  <tbody>\n",
       "    <tr>\n",
       "      <th>ANG MO KIO</th>\n",
       "      <td>82.102712</td>\n",
       "      <td>1981.983646</td>\n",
       "      <td>418629.835860</td>\n",
       "      <td>5063.686140</td>\n",
       "      <td>3.481053</td>\n",
       "      <td>6.659354</td>\n",
       "      <td>8.790586</td>\n",
       "      <td>9.732948</td>\n",
       "      <td>0.0</td>\n",
       "      <td>31.585361</td>\n",
       "    </tr>\n",
       "    <tr>\n",
       "      <th>BEDOK</th>\n",
       "      <td>87.164290</td>\n",
       "      <td>1983.121663</td>\n",
       "      <td>420083.763501</td>\n",
       "      <td>4837.048070</td>\n",
       "      <td>3.739836</td>\n",
       "      <td>6.383343</td>\n",
       "      <td>8.500152</td>\n",
       "      <td>8.822664</td>\n",
       "      <td>1.0</td>\n",
       "      <td>31.280492</td>\n",
       "    </tr>\n",
       "    <tr>\n",
       "      <th>BISHAN</th>\n",
       "      <td>105.579641</td>\n",
       "      <td>1989.078059</td>\n",
       "      <td>603194.968755</td>\n",
       "      <td>5708.664891</td>\n",
       "      <td>4.332806</td>\n",
       "      <td>6.791667</td>\n",
       "      <td>8.919304</td>\n",
       "      <td>8.354958</td>\n",
       "      <td>2.0</td>\n",
       "      <td>32.715190</td>\n",
       "    </tr>\n",
       "    <tr>\n",
       "      <th>BUKIT BATOK</th>\n",
       "      <td>91.578386</td>\n",
       "      <td>1988.440998</td>\n",
       "      <td>406086.975042</td>\n",
       "      <td>4439.294708</td>\n",
       "      <td>3.840804</td>\n",
       "      <td>6.383087</td>\n",
       "      <td>8.529925</td>\n",
       "      <td>8.536952</td>\n",
       "      <td>3.0</td>\n",
       "      <td>30.830870</td>\n",
       "    </tr>\n",
       "    <tr>\n",
       "      <th>BUKIT MERAH</th>\n",
       "      <td>84.999502</td>\n",
       "      <td>1987.553536</td>\n",
       "      <td>549422.586624</td>\n",
       "      <td>6428.789365</td>\n",
       "      <td>3.688496</td>\n",
       "      <td>9.176544</td>\n",
       "      <td>11.334412</td>\n",
       "      <td>7.959661</td>\n",
       "      <td>4.0</td>\n",
       "      <td>31.214392</td>\n",
       "    </tr>\n",
       "    <tr>\n",
       "      <th>BUKIT PANJANG</th>\n",
       "      <td>104.700730</td>\n",
       "      <td>1995.901179</td>\n",
       "      <td>436063.313869</td>\n",
       "      <td>4175.279812</td>\n",
       "      <td>4.412409</td>\n",
       "      <td>8.154688</td>\n",
       "      <td>10.279337</td>\n",
       "      <td>7.810219</td>\n",
       "      <td>5.0</td>\n",
       "      <td>32.169568</td>\n",
       "    </tr>\n",
       "    <tr>\n",
       "      <th>BUKIT TIMAH</th>\n",
       "      <td>107.859091</td>\n",
       "      <td>1983.163636</td>\n",
       "      <td>686751.436364</td>\n",
       "      <td>6342.467316</td>\n",
       "      <td>4.409091</td>\n",
       "      <td>6.954545</td>\n",
       "      <td>9.100000</td>\n",
       "      <td>6.386364</td>\n",
       "      <td>6.0</td>\n",
       "      <td>34.118182</td>\n",
       "    </tr>\n",
       "    <tr>\n",
       "      <th>CENTRAL AREA</th>\n",
       "      <td>79.230860</td>\n",
       "      <td>1989.444052</td>\n",
       "      <td>594591.738516</td>\n",
       "      <td>7365.396072</td>\n",
       "      <td>3.553592</td>\n",
       "      <td>14.538280</td>\n",
       "      <td>16.623086</td>\n",
       "      <td>9.325088</td>\n",
       "      <td>7.0</td>\n",
       "      <td>36.226148</td>\n",
       "    </tr>\n",
       "    <tr>\n",
       "      <th>CHOA CHU KANG</th>\n",
       "      <td>111.090741</td>\n",
       "      <td>1995.334954</td>\n",
       "      <td>424124.816843</td>\n",
       "      <td>3825.065295</td>\n",
       "      <td>4.482407</td>\n",
       "      <td>6.871991</td>\n",
       "      <td>9.029861</td>\n",
       "      <td>6.931713</td>\n",
       "      <td>8.0</td>\n",
       "      <td>31.976389</td>\n",
       "    </tr>\n",
       "    <tr>\n",
       "      <th>CLEMENTI</th>\n",
       "      <td>83.108868</td>\n",
       "      <td>1981.833729</td>\n",
       "      <td>453809.064925</td>\n",
       "      <td>5410.218927</td>\n",
       "      <td>3.553444</td>\n",
       "      <td>6.541172</td>\n",
       "      <td>8.686857</td>\n",
       "      <td>9.901425</td>\n",
       "      <td>9.0</td>\n",
       "      <td>31.307205</td>\n",
       "    </tr>\n",
       "    <tr>\n",
       "      <th>GEYLANG</th>\n",
       "      <td>79.295499</td>\n",
       "      <td>1981.220222</td>\n",
       "      <td>416844.563366</td>\n",
       "      <td>5239.428092</td>\n",
       "      <td>3.552632</td>\n",
       "      <td>6.095222</td>\n",
       "      <td>8.235803</td>\n",
       "      <td>10.242382</td>\n",
       "      <td>10.0</td>\n",
       "      <td>30.845222</td>\n",
       "    </tr>\n",
       "    <tr>\n",
       "      <th>HOUGANG</th>\n",
       "      <td>99.715683</td>\n",
       "      <td>1989.505560</td>\n",
       "      <td>439971.934172</td>\n",
       "      <td>4433.378759</td>\n",
       "      <td>4.158359</td>\n",
       "      <td>5.947278</td>\n",
       "      <td>8.076112</td>\n",
       "      <td>7.897239</td>\n",
       "      <td>11.0</td>\n",
       "      <td>31.571702</td>\n",
       "    </tr>\n",
       "    <tr>\n",
       "      <th>JURONG EAST</th>\n",
       "      <td>94.468549</td>\n",
       "      <td>1986.114677</td>\n",
       "      <td>427668.323676</td>\n",
       "      <td>4531.153681</td>\n",
       "      <td>3.929825</td>\n",
       "      <td>6.687634</td>\n",
       "      <td>8.826273</td>\n",
       "      <td>8.388104</td>\n",
       "      <td>12.0</td>\n",
       "      <td>31.038083</td>\n",
       "    </tr>\n",
       "    <tr>\n",
       "      <th>JURONG WEST</th>\n",
       "      <td>101.803628</td>\n",
       "      <td>1993.141838</td>\n",
       "      <td>423513.131033</td>\n",
       "      <td>4204.386910</td>\n",
       "      <td>4.307376</td>\n",
       "      <td>6.538452</td>\n",
       "      <td>8.666143</td>\n",
       "      <td>6.937122</td>\n",
       "      <td>13.0</td>\n",
       "      <td>30.937001</td>\n",
       "    </tr>\n",
       "    <tr>\n",
       "      <th>KALLANG/WHAMPOA</th>\n",
       "      <td>83.762589</td>\n",
       "      <td>1984.670110</td>\n",
       "      <td>484142.104803</td>\n",
       "      <td>5741.920062</td>\n",
       "      <td>3.653002</td>\n",
       "      <td>8.358941</td>\n",
       "      <td>10.480955</td>\n",
       "      <td>7.475791</td>\n",
       "      <td>14.0</td>\n",
       "      <td>32.642673</td>\n",
       "    </tr>\n",
       "    <tr>\n",
       "      <th>MARINE PARADE</th>\n",
       "      <td>85.512784</td>\n",
       "      <td>1975.390625</td>\n",
       "      <td>548716.566761</td>\n",
       "      <td>6358.861486</td>\n",
       "      <td>3.748580</td>\n",
       "      <td>8.278409</td>\n",
       "      <td>10.397727</td>\n",
       "      <td>6.957386</td>\n",
       "      <td>15.0</td>\n",
       "      <td>30.284091</td>\n",
       "    </tr>\n",
       "    <tr>\n",
       "      <th>PASIR RIS</th>\n",
       "      <td>122.109204</td>\n",
       "      <td>1992.938739</td>\n",
       "      <td>499200.897603</td>\n",
       "      <td>4082.374489</td>\n",
       "      <td>4.811187</td>\n",
       "      <td>5.705830</td>\n",
       "      <td>7.838414</td>\n",
       "      <td>5.141462</td>\n",
       "      <td>16.0</td>\n",
       "      <td>30.730985</td>\n",
       "    </tr>\n",
       "    <tr>\n",
       "      <th>PUNGGOL</th>\n",
       "      <td>101.957579</td>\n",
       "      <td>2006.033775</td>\n",
       "      <td>475450.461400</td>\n",
       "      <td>4687.788091</td>\n",
       "      <td>4.535261</td>\n",
       "      <td>8.508241</td>\n",
       "      <td>10.642259</td>\n",
       "      <td>9.055661</td>\n",
       "      <td>17.0</td>\n",
       "      <td>36.570927</td>\n",
       "    </tr>\n",
       "    <tr>\n",
       "      <th>QUEENSTOWN</th>\n",
       "      <td>77.975063</td>\n",
       "      <td>1984.288399</td>\n",
       "      <td>521215.986494</td>\n",
       "      <td>6551.131433</td>\n",
       "      <td>3.494760</td>\n",
       "      <td>10.096494</td>\n",
       "      <td>12.230213</td>\n",
       "      <td>8.013372</td>\n",
       "      <td>18.0</td>\n",
       "      <td>30.915432</td>\n",
       "    </tr>\n",
       "    <tr>\n",
       "      <th>SEMBAWANG</th>\n",
       "      <td>107.704988</td>\n",
       "      <td>2001.461029</td>\n",
       "      <td>433745.329306</td>\n",
       "      <td>4047.405108</td>\n",
       "      <td>4.737724</td>\n",
       "      <td>7.536633</td>\n",
       "      <td>9.641855</td>\n",
       "      <td>6.941154</td>\n",
       "      <td>19.0</td>\n",
       "      <td>32.924006</td>\n",
       "    </tr>\n",
       "    <tr>\n",
       "      <th>SENGKANG</th>\n",
       "      <td>103.075285</td>\n",
       "      <td>2003.444211</td>\n",
       "      <td>470693.920612</td>\n",
       "      <td>4609.704695</td>\n",
       "      <td>4.530294</td>\n",
       "      <td>8.344481</td>\n",
       "      <td>10.459658</td>\n",
       "      <td>7.830984</td>\n",
       "      <td>20.0</td>\n",
       "      <td>33.623575</td>\n",
       "    </tr>\n",
       "    <tr>\n",
       "      <th>SERANGOON</th>\n",
       "      <td>97.315813</td>\n",
       "      <td>1987.683742</td>\n",
       "      <td>481986.034298</td>\n",
       "      <td>5002.689377</td>\n",
       "      <td>4.116704</td>\n",
       "      <td>5.499777</td>\n",
       "      <td>7.627171</td>\n",
       "      <td>8.541648</td>\n",
       "      <td>21.0</td>\n",
       "      <td>31.790200</td>\n",
       "    </tr>\n",
       "    <tr>\n",
       "      <th>TAMPINES</th>\n",
       "      <td>103.605080</td>\n",
       "      <td>1989.253311</td>\n",
       "      <td>469384.207702</td>\n",
       "      <td>4565.014168</td>\n",
       "      <td>4.188174</td>\n",
       "      <td>5.342346</td>\n",
       "      <td>7.468251</td>\n",
       "      <td>6.934317</td>\n",
       "      <td>22.0</td>\n",
       "      <td>31.321180</td>\n",
       "    </tr>\n",
       "    <tr>\n",
       "      <th>TOA PAYOH</th>\n",
       "      <td>82.994747</td>\n",
       "      <td>1981.875464</td>\n",
       "      <td>458751.424907</td>\n",
       "      <td>5462.909107</td>\n",
       "      <td>3.606304</td>\n",
       "      <td>8.050062</td>\n",
       "      <td>10.192831</td>\n",
       "      <td>6.408220</td>\n",
       "      <td>23.0</td>\n",
       "      <td>31.061496</td>\n",
       "    </tr>\n",
       "    <tr>\n",
       "      <th>WOODLANDS</th>\n",
       "      <td>107.382094</td>\n",
       "      <td>1994.669485</td>\n",
       "      <td>416647.378980</td>\n",
       "      <td>3908.717358</td>\n",
       "      <td>4.412087</td>\n",
       "      <td>5.847177</td>\n",
       "      <td>8.010818</td>\n",
       "      <td>7.408232</td>\n",
       "      <td>24.0</td>\n",
       "      <td>29.674583</td>\n",
       "    </tr>\n",
       "    <tr>\n",
       "      <th>YISHUN</th>\n",
       "      <td>90.991435</td>\n",
       "      <td>1987.458397</td>\n",
       "      <td>377261.378079</td>\n",
       "      <td>4200.344421</td>\n",
       "      <td>3.860508</td>\n",
       "      <td>5.273631</td>\n",
       "      <td>7.412817</td>\n",
       "      <td>9.598195</td>\n",
       "      <td>25.0</td>\n",
       "      <td>30.584277</td>\n",
       "    </tr>\n",
       "  </tbody>\n",
       "</table>\n",
       "</div>"
      ],
      "text/plain": [
       "                 floor_area_sqm  lease_commence_date   resale_price  \\\n",
       "town                                                                  \n",
       "ANG MO KIO            82.102712          1981.983646  418629.835860   \n",
       "BEDOK                 87.164290          1983.121663  420083.763501   \n",
       "BISHAN               105.579641          1989.078059  603194.968755   \n",
       "BUKIT BATOK           91.578386          1988.440998  406086.975042   \n",
       "BUKIT MERAH           84.999502          1987.553536  549422.586624   \n",
       "BUKIT PANJANG        104.700730          1995.901179  436063.313869   \n",
       "BUKIT TIMAH          107.859091          1983.163636  686751.436364   \n",
       "CENTRAL AREA          79.230860          1989.444052  594591.738516   \n",
       "CHOA CHU KANG        111.090741          1995.334954  424124.816843   \n",
       "CLEMENTI              83.108868          1981.833729  453809.064925   \n",
       "GEYLANG               79.295499          1981.220222  416844.563366   \n",
       "HOUGANG               99.715683          1989.505560  439971.934172   \n",
       "JURONG EAST           94.468549          1986.114677  427668.323676   \n",
       "JURONG WEST          101.803628          1993.141838  423513.131033   \n",
       "KALLANG/WHAMPOA       83.762589          1984.670110  484142.104803   \n",
       "MARINE PARADE         85.512784          1975.390625  548716.566761   \n",
       "PASIR RIS            122.109204          1992.938739  499200.897603   \n",
       "PUNGGOL              101.957579          2006.033775  475450.461400   \n",
       "QUEENSTOWN            77.975063          1984.288399  521215.986494   \n",
       "SEMBAWANG            107.704988          2001.461029  433745.329306   \n",
       "SENGKANG             103.075285          2003.444211  470693.920612   \n",
       "SERANGOON             97.315813          1987.683742  481986.034298   \n",
       "TAMPINES             103.605080          1989.253311  469384.207702   \n",
       "TOA PAYOH             82.994747          1981.875464  458751.424907   \n",
       "WOODLANDS            107.382094          1994.669485  416647.378980   \n",
       "YISHUN                90.991435          1987.458397  377261.378079   \n",
       "\n",
       "                 resale_price_per_sqm  flat_type_num  lower_floor  \\\n",
       "town                                                                \n",
       "ANG MO KIO                5063.686140       3.481053     6.659354   \n",
       "BEDOK                     4837.048070       3.739836     6.383343   \n",
       "BISHAN                    5708.664891       4.332806     6.791667   \n",
       "BUKIT BATOK               4439.294708       3.840804     6.383087   \n",
       "BUKIT MERAH               6428.789365       3.688496     9.176544   \n",
       "BUKIT PANJANG             4175.279812       4.412409     8.154688   \n",
       "BUKIT TIMAH               6342.467316       4.409091     6.954545   \n",
       "CENTRAL AREA              7365.396072       3.553592    14.538280   \n",
       "CHOA CHU KANG             3825.065295       4.482407     6.871991   \n",
       "CLEMENTI                  5410.218927       3.553444     6.541172   \n",
       "GEYLANG                   5239.428092       3.552632     6.095222   \n",
       "HOUGANG                   4433.378759       4.158359     5.947278   \n",
       "JURONG EAST               4531.153681       3.929825     6.687634   \n",
       "JURONG WEST               4204.386910       4.307376     6.538452   \n",
       "KALLANG/WHAMPOA           5741.920062       3.653002     8.358941   \n",
       "MARINE PARADE             6358.861486       3.748580     8.278409   \n",
       "PASIR RIS                 4082.374489       4.811187     5.705830   \n",
       "PUNGGOL                   4687.788091       4.535261     8.508241   \n",
       "QUEENSTOWN                6551.131433       3.494760    10.096494   \n",
       "SEMBAWANG                 4047.405108       4.737724     7.536633   \n",
       "SENGKANG                  4609.704695       4.530294     8.344481   \n",
       "SERANGOON                 5002.689377       4.116704     5.499777   \n",
       "TAMPINES                  4565.014168       4.188174     5.342346   \n",
       "TOA PAYOH                 5462.909107       3.606304     8.050062   \n",
       "WOODLANDS                 3908.717358       4.412087     5.847177   \n",
       "YISHUN                    4200.344421       3.860508     5.273631   \n",
       "\n",
       "                 upper_floor  flat_model_encode  town_encode  \\\n",
       "town                                                           \n",
       "ANG MO KIO          8.790586           9.732948          0.0   \n",
       "BEDOK               8.500152           8.822664          1.0   \n",
       "BISHAN              8.919304           8.354958          2.0   \n",
       "BUKIT BATOK         8.529925           8.536952          3.0   \n",
       "BUKIT MERAH        11.334412           7.959661          4.0   \n",
       "BUKIT PANJANG      10.279337           7.810219          5.0   \n",
       "BUKIT TIMAH         9.100000           6.386364          6.0   \n",
       "CENTRAL AREA       16.623086           9.325088          7.0   \n",
       "CHOA CHU KANG       9.029861           6.931713          8.0   \n",
       "CLEMENTI            8.686857           9.901425          9.0   \n",
       "GEYLANG             8.235803          10.242382         10.0   \n",
       "HOUGANG             8.076112           7.897239         11.0   \n",
       "JURONG EAST         8.826273           8.388104         12.0   \n",
       "JURONG WEST         8.666143           6.937122         13.0   \n",
       "KALLANG/WHAMPOA    10.480955           7.475791         14.0   \n",
       "MARINE PARADE      10.397727           6.957386         15.0   \n",
       "PASIR RIS           7.838414           5.141462         16.0   \n",
       "PUNGGOL            10.642259           9.055661         17.0   \n",
       "QUEENSTOWN         12.230213           8.013372         18.0   \n",
       "SEMBAWANG           9.641855           6.941154         19.0   \n",
       "SENGKANG           10.459658           7.830984         20.0   \n",
       "SERANGOON           7.627171           8.541648         21.0   \n",
       "TAMPINES            7.468251           6.934317         22.0   \n",
       "TOA PAYOH          10.192831           6.408220         23.0   \n",
       "WOODLANDS           8.010818           7.408232         24.0   \n",
       "YISHUN              7.412817           9.598195         25.0   \n",
       "\n",
       "                 year_month_encode  \n",
       "town                                \n",
       "ANG MO KIO               31.585361  \n",
       "BEDOK                    31.280492  \n",
       "BISHAN                   32.715190  \n",
       "BUKIT BATOK              30.830870  \n",
       "BUKIT MERAH              31.214392  \n",
       "BUKIT PANJANG            32.169568  \n",
       "BUKIT TIMAH              34.118182  \n",
       "CENTRAL AREA             36.226148  \n",
       "CHOA CHU KANG            31.976389  \n",
       "CLEMENTI                 31.307205  \n",
       "GEYLANG                  30.845222  \n",
       "HOUGANG                  31.571702  \n",
       "JURONG EAST              31.038083  \n",
       "JURONG WEST              30.937001  \n",
       "KALLANG/WHAMPOA          32.642673  \n",
       "MARINE PARADE            30.284091  \n",
       "PASIR RIS                30.730985  \n",
       "PUNGGOL                  36.570927  \n",
       "QUEENSTOWN               30.915432  \n",
       "SEMBAWANG                32.924006  \n",
       "SENGKANG                 33.623575  \n",
       "SERANGOON                31.790200  \n",
       "TAMPINES                 31.321180  \n",
       "TOA PAYOH                31.061496  \n",
       "WOODLANDS                29.674583  \n",
       "YISHUN                   30.584277  "
      ]
     },
     "execution_count": 17,
     "metadata": {},
     "output_type": "execute_result"
    }
   ],
   "source": [
    "HDB.groupby('town').mean()"
   ]
  },
  {
   "cell_type": "code",
   "execution_count": 18,
   "metadata": {},
   "outputs": [
    {
     "data": {
      "text/html": [
       "<div>\n",
       "<style>\n",
       "    .dataframe thead tr:only-child th {\n",
       "        text-align: right;\n",
       "    }\n",
       "\n",
       "    .dataframe thead th {\n",
       "        text-align: left;\n",
       "    }\n",
       "\n",
       "    .dataframe tbody tr th {\n",
       "        vertical-align: top;\n",
       "    }\n",
       "</style>\n",
       "<table border=\"1\" class=\"dataframe\">\n",
       "  <thead>\n",
       "    <tr style=\"text-align: right;\">\n",
       "      <th></th>\n",
       "      <th>floor_area_sqm</th>\n",
       "      <th>lease_commence_date</th>\n",
       "      <th>resale_price</th>\n",
       "      <th>resale_price_per_sqm</th>\n",
       "      <th>flat_type_num</th>\n",
       "      <th>lower_floor</th>\n",
       "      <th>upper_floor</th>\n",
       "      <th>flat_model_encode</th>\n",
       "      <th>town_encode</th>\n",
       "      <th>year_month_encode</th>\n",
       "    </tr>\n",
       "    <tr>\n",
       "      <th>flat_type</th>\n",
       "      <th></th>\n",
       "      <th></th>\n",
       "      <th></th>\n",
       "      <th></th>\n",
       "      <th></th>\n",
       "      <th></th>\n",
       "      <th></th>\n",
       "      <th></th>\n",
       "      <th></th>\n",
       "      <th></th>\n",
       "    </tr>\n",
       "  </thead>\n",
       "  <tbody>\n",
       "    <tr>\n",
       "      <th>1 ROOM</th>\n",
       "      <td>31.000000</td>\n",
       "      <td>1975.000000</td>\n",
       "      <td>222661.016949</td>\n",
       "      <td>7182.613450</td>\n",
       "      <td>1.0</td>\n",
       "      <td>5.271186</td>\n",
       "      <td>7.271186</td>\n",
       "      <td>4.000000</td>\n",
       "      <td>4.000000</td>\n",
       "      <td>28.237288</td>\n",
       "    </tr>\n",
       "    <tr>\n",
       "      <th>2 ROOM</th>\n",
       "      <td>45.454376</td>\n",
       "      <td>1979.084730</td>\n",
       "      <td>259146.787709</td>\n",
       "      <td>5724.624586</td>\n",
       "      <td>2.0</td>\n",
       "      <td>5.895717</td>\n",
       "      <td>8.020484</td>\n",
       "      <td>10.319367</td>\n",
       "      <td>10.952514</td>\n",
       "      <td>31.326816</td>\n",
       "    </tr>\n",
       "    <tr>\n",
       "      <th>3 ROOM</th>\n",
       "      <td>68.219060</td>\n",
       "      <td>1981.030000</td>\n",
       "      <td>338317.520624</td>\n",
       "      <td>4976.865864</td>\n",
       "      <td>3.0</td>\n",
       "      <td>5.949035</td>\n",
       "      <td>8.081173</td>\n",
       "      <td>8.935396</td>\n",
       "      <td>11.463390</td>\n",
       "      <td>30.831060</td>\n",
       "    </tr>\n",
       "    <tr>\n",
       "      <th>4 ROOM</th>\n",
       "      <td>96.012468</td>\n",
       "      <td>1993.427552</td>\n",
       "      <td>447501.736135</td>\n",
       "      <td>4692.966447</td>\n",
       "      <td>4.0</td>\n",
       "      <td>7.072952</td>\n",
       "      <td>9.205082</td>\n",
       "      <td>9.004895</td>\n",
       "      <td>14.205696</td>\n",
       "      <td>32.281108</td>\n",
       "    </tr>\n",
       "    <tr>\n",
       "      <th>5 ROOM</th>\n",
       "      <td>118.534178</td>\n",
       "      <td>1995.683519</td>\n",
       "      <td>535919.387414</td>\n",
       "      <td>4532.330189</td>\n",
       "      <td>5.0</td>\n",
       "      <td>8.003051</td>\n",
       "      <td>10.138916</td>\n",
       "      <td>6.028097</td>\n",
       "      <td>14.622961</td>\n",
       "      <td>31.740942</td>\n",
       "    </tr>\n",
       "    <tr>\n",
       "      <th>EXECUTIVE</th>\n",
       "      <td>143.841397</td>\n",
       "      <td>1994.107980</td>\n",
       "      <td>633405.516678</td>\n",
       "      <td>4405.971923</td>\n",
       "      <td>6.0</td>\n",
       "      <td>6.196384</td>\n",
       "      <td>8.341521</td>\n",
       "      <td>4.728803</td>\n",
       "      <td>15.117581</td>\n",
       "      <td>30.682294</td>\n",
       "    </tr>\n",
       "    <tr>\n",
       "      <th>MULTI-GENERATION</th>\n",
       "      <td>157.846154</td>\n",
       "      <td>1987.153846</td>\n",
       "      <td>769418.769231</td>\n",
       "      <td>4889.045202</td>\n",
       "      <td>7.0</td>\n",
       "      <td>5.269231</td>\n",
       "      <td>7.730769</td>\n",
       "      <td>10.000000</td>\n",
       "      <td>19.000000</td>\n",
       "      <td>17.807692</td>\n",
       "    </tr>\n",
       "  </tbody>\n",
       "</table>\n",
       "</div>"
      ],
      "text/plain": [
       "                  floor_area_sqm  lease_commence_date   resale_price  \\\n",
       "flat_type                                                              \n",
       "1 ROOM                 31.000000          1975.000000  222661.016949   \n",
       "2 ROOM                 45.454376          1979.084730  259146.787709   \n",
       "3 ROOM                 68.219060          1981.030000  338317.520624   \n",
       "4 ROOM                 96.012468          1993.427552  447501.736135   \n",
       "5 ROOM                118.534178          1995.683519  535919.387414   \n",
       "EXECUTIVE             143.841397          1994.107980  633405.516678   \n",
       "MULTI-GENERATION      157.846154          1987.153846  769418.769231   \n",
       "\n",
       "                  resale_price_per_sqm  flat_type_num  lower_floor  \\\n",
       "flat_type                                                            \n",
       "1 ROOM                     7182.613450            1.0     5.271186   \n",
       "2 ROOM                     5724.624586            2.0     5.895717   \n",
       "3 ROOM                     4976.865864            3.0     5.949035   \n",
       "4 ROOM                     4692.966447            4.0     7.072952   \n",
       "5 ROOM                     4532.330189            5.0     8.003051   \n",
       "EXECUTIVE                  4405.971923            6.0     6.196384   \n",
       "MULTI-GENERATION           4889.045202            7.0     5.269231   \n",
       "\n",
       "                  upper_floor  flat_model_encode  town_encode  \\\n",
       "flat_type                                                       \n",
       "1 ROOM               7.271186           4.000000     4.000000   \n",
       "2 ROOM               8.020484          10.319367    10.952514   \n",
       "3 ROOM               8.081173           8.935396    11.463390   \n",
       "4 ROOM               9.205082           9.004895    14.205696   \n",
       "5 ROOM              10.138916           6.028097    14.622961   \n",
       "EXECUTIVE            8.341521           4.728803    15.117581   \n",
       "MULTI-GENERATION     7.730769          10.000000    19.000000   \n",
       "\n",
       "                  year_month_encode  \n",
       "flat_type                            \n",
       "1 ROOM                    28.237288  \n",
       "2 ROOM                    31.326816  \n",
       "3 ROOM                    30.831060  \n",
       "4 ROOM                    32.281108  \n",
       "5 ROOM                    31.740942  \n",
       "EXECUTIVE                 30.682294  \n",
       "MULTI-GENERATION          17.807692  "
      ]
     },
     "execution_count": 18,
     "metadata": {},
     "output_type": "execute_result"
    }
   ],
   "source": [
    "HDB.groupby('flat_type').mean()"
   ]
  },
  {
   "cell_type": "code",
   "execution_count": 19,
   "metadata": {},
   "outputs": [
    {
     "data": {
      "text/html": [
       "<div>\n",
       "<style>\n",
       "    .dataframe thead tr:only-child th {\n",
       "        text-align: right;\n",
       "    }\n",
       "\n",
       "    .dataframe thead th {\n",
       "        text-align: left;\n",
       "    }\n",
       "\n",
       "    .dataframe tbody tr th {\n",
       "        vertical-align: top;\n",
       "    }\n",
       "</style>\n",
       "<table border=\"1\" class=\"dataframe\">\n",
       "  <thead>\n",
       "    <tr style=\"text-align: right;\">\n",
       "      <th></th>\n",
       "      <th>floor_area_sqm</th>\n",
       "      <th>lease_commence_date</th>\n",
       "      <th>resale_price</th>\n",
       "      <th>resale_price_per_sqm</th>\n",
       "      <th>flat_type_num</th>\n",
       "      <th>lower_floor</th>\n",
       "      <th>upper_floor</th>\n",
       "      <th>flat_model_encode</th>\n",
       "      <th>town_encode</th>\n",
       "      <th>year_month_encode</th>\n",
       "    </tr>\n",
       "  </thead>\n",
       "  <tbody>\n",
       "    <tr>\n",
       "      <th>count</th>\n",
       "      <td>102100.000000</td>\n",
       "      <td>102100.000000</td>\n",
       "      <td>1.021000e+05</td>\n",
       "      <td>102100.000000</td>\n",
       "      <td>102100.000000</td>\n",
       "      <td>102100.000000</td>\n",
       "      <td>102100.000000</td>\n",
       "      <td>102100.000000</td>\n",
       "      <td>102100.000000</td>\n",
       "      <td>102100.000000</td>\n",
       "    </tr>\n",
       "    <tr>\n",
       "      <th>mean</th>\n",
       "      <td>96.617284</td>\n",
       "      <td>1990.358364</td>\n",
       "      <td>4.498540e+05</td>\n",
       "      <td>4725.349432</td>\n",
       "      <td>4.085436</td>\n",
       "      <td>6.889608</td>\n",
       "      <td>9.023555</td>\n",
       "      <td>7.972693</td>\n",
       "      <td>13.564897</td>\n",
       "      <td>31.607483</td>\n",
       "    </tr>\n",
       "    <tr>\n",
       "      <th>std</th>\n",
       "      <td>24.584306</td>\n",
       "      <td>10.639069</td>\n",
       "      <td>1.310726e+05</td>\n",
       "      <td>1006.667181</td>\n",
       "      <td>0.931864</td>\n",
       "      <td>5.190660</td>\n",
       "      <td>5.183719</td>\n",
       "      <td>3.816402</td>\n",
       "      <td>8.135275</td>\n",
       "      <td>19.692251</td>\n",
       "    </tr>\n",
       "    <tr>\n",
       "      <th>min</th>\n",
       "      <td>31.000000</td>\n",
       "      <td>1966.000000</td>\n",
       "      <td>1.750000e+05</td>\n",
       "      <td>2375.000000</td>\n",
       "      <td>1.000000</td>\n",
       "      <td>1.000000</td>\n",
       "      <td>3.000000</td>\n",
       "      <td>0.000000</td>\n",
       "      <td>0.000000</td>\n",
       "      <td>0.000000</td>\n",
       "    </tr>\n",
       "    <tr>\n",
       "      <th>25%</th>\n",
       "      <td>74.000000</td>\n",
       "      <td>1983.000000</td>\n",
       "      <td>3.550000e+05</td>\n",
       "      <td>4047.619048</td>\n",
       "      <td>3.000000</td>\n",
       "      <td>4.000000</td>\n",
       "      <td>6.000000</td>\n",
       "      <td>4.000000</td>\n",
       "      <td>7.000000</td>\n",
       "      <td>13.000000</td>\n",
       "    </tr>\n",
       "    <tr>\n",
       "      <th>50%</th>\n",
       "      <td>95.000000</td>\n",
       "      <td>1988.000000</td>\n",
       "      <td>4.250000e+05</td>\n",
       "      <td>4527.027027</td>\n",
       "      <td>4.000000</td>\n",
       "      <td>7.000000</td>\n",
       "      <td>9.000000</td>\n",
       "      <td>7.000000</td>\n",
       "      <td>13.000000</td>\n",
       "      <td>33.000000</td>\n",
       "    </tr>\n",
       "    <tr>\n",
       "      <th>75%</th>\n",
       "      <td>111.000000</td>\n",
       "      <td>1999.000000</td>\n",
       "      <td>5.150000e+05</td>\n",
       "      <td>5142.857143</td>\n",
       "      <td>5.000000</td>\n",
       "      <td>10.000000</td>\n",
       "      <td>12.000000</td>\n",
       "      <td>11.000000</td>\n",
       "      <td>21.000000</td>\n",
       "      <td>49.000000</td>\n",
       "    </tr>\n",
       "    <tr>\n",
       "      <th>max</th>\n",
       "      <td>280.000000</td>\n",
       "      <td>2015.000000</td>\n",
       "      <td>1.180000e+06</td>\n",
       "      <td>10645.161290</td>\n",
       "      <td>7.000000</td>\n",
       "      <td>49.000000</td>\n",
       "      <td>51.000000</td>\n",
       "      <td>19.000000</td>\n",
       "      <td>25.000000</td>\n",
       "      <td>64.000000</td>\n",
       "    </tr>\n",
       "  </tbody>\n",
       "</table>\n",
       "</div>"
      ],
      "text/plain": [
       "       floor_area_sqm  lease_commence_date  resale_price  \\\n",
       "count   102100.000000        102100.000000  1.021000e+05   \n",
       "mean        96.617284          1990.358364  4.498540e+05   \n",
       "std         24.584306            10.639069  1.310726e+05   \n",
       "min         31.000000          1966.000000  1.750000e+05   \n",
       "25%         74.000000          1983.000000  3.550000e+05   \n",
       "50%         95.000000          1988.000000  4.250000e+05   \n",
       "75%        111.000000          1999.000000  5.150000e+05   \n",
       "max        280.000000          2015.000000  1.180000e+06   \n",
       "\n",
       "       resale_price_per_sqm  flat_type_num    lower_floor    upper_floor  \\\n",
       "count         102100.000000  102100.000000  102100.000000  102100.000000   \n",
       "mean            4725.349432       4.085436       6.889608       9.023555   \n",
       "std             1006.667181       0.931864       5.190660       5.183719   \n",
       "min             2375.000000       1.000000       1.000000       3.000000   \n",
       "25%             4047.619048       3.000000       4.000000       6.000000   \n",
       "50%             4527.027027       4.000000       7.000000       9.000000   \n",
       "75%             5142.857143       5.000000      10.000000      12.000000   \n",
       "max            10645.161290       7.000000      49.000000      51.000000   \n",
       "\n",
       "       flat_model_encode    town_encode  year_month_encode  \n",
       "count      102100.000000  102100.000000      102100.000000  \n",
       "mean            7.972693      13.564897          31.607483  \n",
       "std             3.816402       8.135275          19.692251  \n",
       "min             0.000000       0.000000           0.000000  \n",
       "25%             4.000000       7.000000          13.000000  \n",
       "50%             7.000000      13.000000          33.000000  \n",
       "75%            11.000000      21.000000          49.000000  \n",
       "max            19.000000      25.000000          64.000000  "
      ]
     },
     "execution_count": 19,
     "metadata": {},
     "output_type": "execute_result"
    }
   ],
   "source": [
    "HDB.describe()"
   ]
  },
  {
   "cell_type": "code",
   "execution_count": 20,
   "metadata": {},
   "outputs": [
    {
     "data": {
      "text/plain": [
       "town\n",
       "BUKIT TIMAH      686751.436364\n",
       "BISHAN           603194.968755\n",
       "CENTRAL AREA     594591.738516\n",
       "BUKIT MERAH      549422.586624\n",
       "MARINE PARADE    548716.566761\n",
       "Name: resale_price, dtype: float64"
      ]
     },
     "execution_count": 20,
     "metadata": {},
     "output_type": "execute_result"
    }
   ],
   "source": [
    "HDB[['resale_price','town']].groupby('town').resale_price.mean().sort_values(ascending=False).head(5)"
   ]
  },
  {
   "cell_type": "code",
   "execution_count": 21,
   "metadata": {},
   "outputs": [
    {
     "data": {
      "text/plain": [
       "JURONG WEST        8270\n",
       "WOODLANDS          8042\n",
       "TAMPINES           7323\n",
       "SENGKANG           6668\n",
       "BEDOK              6592\n",
       "YISHUN             6538\n",
       "HOUGANG            5216\n",
       "ANG MO KIO         5014\n",
       "CHOA CHU KANG      4320\n",
       "BUKIT BATOK        4127\n",
       "BUKIT MERAH        4016\n",
       "PUNGGOL            3701\n",
       "BUKIT PANJANG      3562\n",
       "PASIR RIS          3379\n",
       "TOA PAYOH          3236\n",
       "KALLANG/WHAMPOA    3098\n",
       "GEYLANG            2888\n",
       "QUEENSTOWN         2767\n",
       "SEMBAWANG          2566\n",
       "CLEMENTI           2526\n",
       "JURONG EAST        2337\n",
       "SERANGOON          2245\n",
       "BISHAN             1896\n",
       "CENTRAL AREA        849\n",
       "MARINE PARADE       704\n",
       "BUKIT TIMAH         220\n",
       "Name: town, dtype: int64"
      ]
     },
     "execution_count": 21,
     "metadata": {},
     "output_type": "execute_result"
    }
   ],
   "source": [
    "# count the number of HDB sold in each town\n",
    "HDB.town.value_counts()"
   ]
  },
  {
   "cell_type": "code",
   "execution_count": 22,
   "metadata": {},
   "outputs": [
    {
     "data": {
      "text/plain": [
       "4 ROOM              40657\n",
       "3 ROOM              28667\n",
       "5 ROOM              23597\n",
       "EXECUTIVE            8020\n",
       "2 ROOM               1074\n",
       "1 ROOM                 59\n",
       "MULTI-GENERATION       26\n",
       "Name: flat_type, dtype: int64"
      ]
     },
     "execution_count": 22,
     "metadata": {},
     "output_type": "execute_result"
    }
   ],
   "source": [
    "# count the number of HDB sold in each town\n",
    "HDB.flat_type.value_counts()"
   ]
  },
  {
   "cell_type": "code",
   "execution_count": 23,
   "metadata": {},
   "outputs": [
    {
     "data": {
      "text/plain": [
       "04 TO 06    23393\n",
       "07 TO 09    20852\n",
       "01 TO 03    19045\n",
       "10 TO 12    17867\n",
       "13 TO 15     7614\n",
       "16 TO 18     3121\n",
       "01 TO 05     2700\n",
       "06 TO 10     2474\n",
       "19 TO 21     1355\n",
       "11 TO 15     1259\n",
       "22 TO 24      880\n",
       "25 TO 27      462\n",
       "28 TO 30      292\n",
       "16 TO 20      265\n",
       "34 TO 36      112\n",
       "37 TO 39       98\n",
       "31 TO 33       98\n",
       "21 TO 25       92\n",
       "40 TO 42       47\n",
       "26 TO 30       39\n",
       "46 TO 48       12\n",
       "43 TO 45        9\n",
       "36 TO 40        7\n",
       "49 TO 51        5\n",
       "31 TO 35        2\n",
       "Name: storey_range, dtype: int64"
      ]
     },
     "execution_count": 23,
     "metadata": {},
     "output_type": "execute_result"
    }
   ],
   "source": [
    "# count the number of HDB sold in each town\n",
    "HDB.storey_range.value_counts()"
   ]
  },
  {
   "cell_type": "code",
   "execution_count": 24,
   "metadata": {},
   "outputs": [
    {
     "data": {
      "text/plain": [
       "Model A                   29394\n",
       "Improved                  26384\n",
       "New Generation            17907\n",
       "Premium Apartment          9497\n",
       "Simplified                 5609\n",
       "Apartment                  4077\n",
       "Standard                   3721\n",
       "Maisonette                 2829\n",
       "Model A2                   1583\n",
       "DBSS                        427\n",
       "Type S1                     175\n",
       "Model A-Maisonette          160\n",
       "Adjoined flat               154\n",
       "Type S2                      68\n",
       "Terrace                      65\n",
       "Multi Generation             26\n",
       "Improved-Maisonette          12\n",
       "Premium Maisonette            6\n",
       "Premium Apartment Loft        5\n",
       "2-room                        1\n",
       "Name: flat_model, dtype: int64"
      ]
     },
     "execution_count": 24,
     "metadata": {},
     "output_type": "execute_result"
    }
   ],
   "source": [
    "# count the number of HDB sold in each town\n",
    "HDB.flat_model.value_counts()"
   ]
  },
  {
   "cell_type": "code",
   "execution_count": 49,
   "metadata": {},
   "outputs": [
    {
     "data": {
      "text/plain": [
       "<matplotlib.axes._subplots.AxesSubplot at 0x11d6c98d0>"
      ]
     },
     "execution_count": 49,
     "metadata": {},
     "output_type": "execute_result"
    },
    {
     "data": {
      "image/png": "[encoded data removed]",
      "text/plain": [
       "<matplotlib.figure.Figure at 0x11d6de090>"
      ]
     },
     "metadata": {},
     "output_type": "display_data"
    }
   ],
   "source": [
    "# compare with line plot\n",
    "HDB.resale_price.value_counts().sort_index().plot()"
   ]
  },
  {
   "cell_type": "code",
   "execution_count": 26,
   "metadata": {},
   "outputs": [
    {
     "data": {
      "text/plain": [
       "<function seaborn.utils.despine>"
      ]
     },
     "execution_count": 26,
     "metadata": {},
     "output_type": "execute_result"
    },
    {
     "data": {
      "image/png": "[encoded data removed]",
      "text/plain": [
       "<matplotlib.figure.Figure at 0x115143bd0>"
      ]
     },
     "metadata": {},
     "output_type": "display_data"
    }
   ],
   "source": [
    "HDB['flat_type'].value_counts().plot(kind='bar')\n",
    "plt.title('Flat Type')\n",
    "plt.xlabel('Flat Type')\n",
    "plt.ylabel('Count')\n",
    "sns.despine"
   ]
  },
  {
   "cell_type": "code",
   "execution_count": 27,
   "metadata": {},
   "outputs": [
    {
     "data": {
      "text/plain": [
       "<seaborn.axisgrid.FacetGrid at 0x114cd3450>"
      ]
     },
     "execution_count": 27,
     "metadata": {},
     "output_type": "execute_result"
    },
    {
     "data": {
      "image/png": "[encoded data removed]",
      "text/plain": [
       "<matplotlib.figure.Figure at 0x114ccbc10>"
      ]
     },
     "metadata": {},
     "output_type": "display_data"
    }
   ],
   "source": [
    "# Seaborn scatter plot with regression line\n",
    "sns.lmplot(x='floor_area_sqm', y='resale_price', data=HDB, aspect=1.5, scatter_kws={'alpha':0.2})"
   ]
  },
  {
   "cell_type": "code",
   "execution_count": 28,
   "metadata": {
    "collapsed": true
   },
   "outputs": [],
   "source": [
    "feature_cols = ['floor_area_sqm']\n",
    "X = HDB[feature_cols]\n",
    "y = HDB.resale_price"
   ]
  },
  {
   "cell_type": "code",
   "execution_count": 29,
   "metadata": {},
   "outputs": [
    {
     "data": {
      "text/plain": [
       "LinearRegression(copy_X=True, fit_intercept=True, n_jobs=1, normalize=False)"
      ]
     },
     "execution_count": 29,
     "metadata": {},
     "output_type": "execute_result"
    }
   ],
   "source": [
    "# import, instantiate, fit\n",
    "from sklearn.linear_model import LinearRegression\n",
    "linreg = LinearRegression()\n",
    "linreg.fit(X, y)"
   ]
  },
  {
   "cell_type": "code",
   "execution_count": 30,
   "metadata": {},
   "outputs": [
    {
     "name": "stdout",
     "output_type": "stream",
     "text": [
      "94554.1342589\n",
      "[ 3677.39452962]\n"
     ]
    }
   ],
   "source": [
    "# print the coefficients\n",
    "print linreg.intercept_\n",
    "print linreg.coef_#Every 1 floor area sqm increase = S$3677 increase in resale price"
   ]
  },
  {
   "cell_type": "markdown",
   "metadata": {},
   "source": [
    "# Using the model for prediction\n",
    "How much will a HDB cost if the the floor area is 121?"
   ]
  },
  {
   "cell_type": "code",
   "execution_count": 31,
   "metadata": {},
   "outputs": [
    {
     "data": {
      "text/plain": [
       "array([ 539518.87234259])"
      ]
     },
     "execution_count": 31,
     "metadata": {},
     "output_type": "execute_result"
    }
   ],
   "source": [
    "# manually calculate the prediction\n",
    "linreg.intercept_ + linreg.coef_*121"
   ]
  },
  {
   "cell_type": "code",
   "execution_count": 32,
   "metadata": {},
   "outputs": [
    {
     "data": {
      "text/plain": [
       "array([ 539518.87234259])"
      ]
     },
     "execution_count": 32,
     "metadata": {},
     "output_type": "execute_result"
    }
   ],
   "source": [
    "# use the predict method\n",
    "linreg.predict(121)"
   ]
  },
  {
   "cell_type": "code",
   "execution_count": 33,
   "metadata": {
    "collapsed": true
   },
   "outputs": [],
   "source": [
    "# explore more features\n",
    "feature_cols = ['floor_area_sqm', 'flat_type_num', 'flat_model_encode', 'lease_commence_date']"
   ]
  },
  {
   "cell_type": "code",
   "execution_count": 34,
   "metadata": {},
   "outputs": [
    {
     "data": {
      "text/plain": [
       "<seaborn.axisgrid.PairGrid at 0x117faeb10>"
      ]
     },
     "execution_count": 34,
     "metadata": {},
     "output_type": "execute_result"
    },
    {
     "data": {
      "image/png": "[encoded data removed]",
      "text/plain": [
       "<matplotlib.figure.Figure at 0x117faef50>"
      ]
     },
     "metadata": {},
     "output_type": "display_data"
    }
   ],
   "source": [
    "# multiple scatter plots in Seaborn\n",
    "sns.pairplot(HDB, x_vars=feature_cols, y_vars='resale_price', kind='reg')"
   ]
  },
  {
   "cell_type": "code",
   "execution_count": 36,
   "metadata": {
    "scrolled": true
   },
   "outputs": [
    {
     "data": {
      "text/html": [
       "<div>\n",
       "<style>\n",
       "    .dataframe thead tr:only-child th {\n",
       "        text-align: right;\n",
       "    }\n",
       "\n",
       "    .dataframe thead th {\n",
       "        text-align: left;\n",
       "    }\n",
       "\n",
       "    .dataframe tbody tr th {\n",
       "        vertical-align: top;\n",
       "    }\n",
       "</style>\n",
       "<table border=\"1\" class=\"dataframe\">\n",
       "  <thead>\n",
       "    <tr style=\"text-align: right;\">\n",
       "      <th></th>\n",
       "      <th>floor_area_sqm</th>\n",
       "      <th>lease_commence_date</th>\n",
       "      <th>resale_price</th>\n",
       "      <th>resale_price_per_sqm</th>\n",
       "      <th>flat_type_num</th>\n",
       "      <th>lower_floor</th>\n",
       "      <th>upper_floor</th>\n",
       "      <th>flat_model_encode</th>\n",
       "      <th>town_encode</th>\n",
       "      <th>year_month_encode</th>\n",
       "    </tr>\n",
       "  </thead>\n",
       "  <tbody>\n",
       "    <tr>\n",
       "      <th>floor_area_sqm</th>\n",
       "      <td>1.000000</td>\n",
       "      <td>0.427374</td>\n",
       "      <td>0.689742</td>\n",
       "      <td>-0.270585</td>\n",
       "      <td>0.946994</td>\n",
       "      <td>0.046285</td>\n",
       "      <td>0.046911</td>\n",
       "      <td>-0.393049</td>\n",
       "      <td>0.145043</td>\n",
       "      <td>0.006298</td>\n",
       "    </tr>\n",
       "    <tr>\n",
       "      <th>lease_commence_date</th>\n",
       "      <td>0.427374</td>\n",
       "      <td>1.000000</td>\n",
       "      <td>0.384532</td>\n",
       "      <td>-0.000910</td>\n",
       "      <td>0.474105</td>\n",
       "      <td>0.232788</td>\n",
       "      <td>0.231363</td>\n",
       "      <td>-0.164454</td>\n",
       "      <td>0.219050</td>\n",
       "      <td>0.085741</td>\n",
       "    </tr>\n",
       "    <tr>\n",
       "      <th>resale_price</th>\n",
       "      <td>0.689742</td>\n",
       "      <td>0.384532</td>\n",
       "      <td>1.000000</td>\n",
       "      <td>0.492346</td>\n",
       "      <td>0.693413</td>\n",
       "      <td>0.335483</td>\n",
       "      <td>0.336911</td>\n",
       "      <td>-0.268852</td>\n",
       "      <td>-0.036713</td>\n",
       "      <td>-0.089542</td>\n",
       "    </tr>\n",
       "    <tr>\n",
       "      <th>resale_price_per_sqm</th>\n",
       "      <td>-0.270585</td>\n",
       "      <td>-0.000910</td>\n",
       "      <td>0.492346</td>\n",
       "      <td>1.000000</td>\n",
       "      <td>-0.203143</td>\n",
       "      <td>0.390151</td>\n",
       "      <td>0.391758</td>\n",
       "      <td>0.082864</td>\n",
       "      <td>-0.211929</td>\n",
       "      <td>-0.145104</td>\n",
       "    </tr>\n",
       "    <tr>\n",
       "      <th>flat_type_num</th>\n",
       "      <td>0.946994</td>\n",
       "      <td>0.474105</td>\n",
       "      <td>0.693413</td>\n",
       "      <td>-0.203143</td>\n",
       "      <td>1.000000</td>\n",
       "      <td>0.089932</td>\n",
       "      <td>0.090753</td>\n",
       "      <td>-0.357189</td>\n",
       "      <td>0.152252</td>\n",
       "      <td>0.005706</td>\n",
       "    </tr>\n",
       "    <tr>\n",
       "      <th>lower_floor</th>\n",
       "      <td>0.046285</td>\n",
       "      <td>0.232788</td>\n",
       "      <td>0.335483</td>\n",
       "      <td>0.390151</td>\n",
       "      <td>0.089932</td>\n",
       "      <td>1.000000</td>\n",
       "      <td>0.995356</td>\n",
       "      <td>-0.059441</td>\n",
       "      <td>-0.052503</td>\n",
       "      <td>0.083789</td>\n",
       "    </tr>\n",
       "    <tr>\n",
       "      <th>upper_floor</th>\n",
       "      <td>0.046911</td>\n",
       "      <td>0.231363</td>\n",
       "      <td>0.336911</td>\n",
       "      <td>0.391758</td>\n",
       "      <td>0.090753</td>\n",
       "      <td>0.995356</td>\n",
       "      <td>1.000000</td>\n",
       "      <td>-0.059292</td>\n",
       "      <td>-0.052248</td>\n",
       "      <td>0.043731</td>\n",
       "    </tr>\n",
       "    <tr>\n",
       "      <th>flat_model_encode</th>\n",
       "      <td>-0.393049</td>\n",
       "      <td>-0.164454</td>\n",
       "      <td>-0.268852</td>\n",
       "      <td>0.082864</td>\n",
       "      <td>-0.357189</td>\n",
       "      <td>-0.059441</td>\n",
       "      <td>-0.059292</td>\n",
       "      <td>1.000000</td>\n",
       "      <td>-0.094086</td>\n",
       "      <td>-0.008490</td>\n",
       "    </tr>\n",
       "    <tr>\n",
       "      <th>town_encode</th>\n",
       "      <td>0.145043</td>\n",
       "      <td>0.219050</td>\n",
       "      <td>-0.036713</td>\n",
       "      <td>-0.211929</td>\n",
       "      <td>0.152252</td>\n",
       "      <td>-0.052503</td>\n",
       "      <td>-0.052248</td>\n",
       "      <td>-0.094086</td>\n",
       "      <td>1.000000</td>\n",
       "      <td>-0.006319</td>\n",
       "    </tr>\n",
       "    <tr>\n",
       "      <th>year_month_encode</th>\n",
       "      <td>0.006298</td>\n",
       "      <td>0.085741</td>\n",
       "      <td>-0.089542</td>\n",
       "      <td>-0.145104</td>\n",
       "      <td>0.005706</td>\n",
       "      <td>0.083789</td>\n",
       "      <td>0.043731</td>\n",
       "      <td>-0.008490</td>\n",
       "      <td>-0.006319</td>\n",
       "      <td>1.000000</td>\n",
       "    </tr>\n",
       "  </tbody>\n",
       "</table>\n",
       "</div>"
      ],
      "text/plain": [
       "                      floor_area_sqm  lease_commence_date  resale_price  \\\n",
       "floor_area_sqm              1.000000             0.427374      0.689742   \n",
       "lease_commence_date         0.427374             1.000000      0.384532   \n",
       "resale_price                0.689742             0.384532      1.000000   \n",
       "resale_price_per_sqm       -0.270585            -0.000910      0.492346   \n",
       "flat_type_num               0.946994             0.474105      0.693413   \n",
       "lower_floor                 0.046285             0.232788      0.335483   \n",
       "upper_floor                 0.046911             0.231363      0.336911   \n",
       "flat_model_encode          -0.393049            -0.164454     -0.268852   \n",
       "town_encode                 0.145043             0.219050     -0.036713   \n",
       "year_month_encode           0.006298             0.085741     -0.089542   \n",
       "\n",
       "                      resale_price_per_sqm  flat_type_num  lower_floor  \\\n",
       "floor_area_sqm                   -0.270585       0.946994     0.046285   \n",
       "lease_commence_date              -0.000910       0.474105     0.232788   \n",
       "resale_price                      0.492346       0.693413     0.335483   \n",
       "resale_price_per_sqm              1.000000      -0.203143     0.390151   \n",
       "flat_type_num                    -0.203143       1.000000     0.089932   \n",
       "lower_floor                       0.390151       0.089932     1.000000   \n",
       "upper_floor                       0.391758       0.090753     0.995356   \n",
       "flat_model_encode                 0.082864      -0.357189    -0.059441   \n",
       "town_encode                      -0.211929       0.152252    -0.052503   \n",
       "year_month_encode                -0.145104       0.005706     0.083789   \n",
       "\n",
       "                      upper_floor  flat_model_encode  town_encode  \\\n",
       "floor_area_sqm           0.046911          -0.393049     0.145043   \n",
       "lease_commence_date      0.231363          -0.164454     0.219050   \n",
       "resale_price             0.336911          -0.268852    -0.036713   \n",
       "resale_price_per_sqm     0.391758           0.082864    -0.211929   \n",
       "flat_type_num            0.090753          -0.357189     0.152252   \n",
       "lower_floor              0.995356          -0.059441    -0.052503   \n",
       "upper_floor              1.000000          -0.059292    -0.052248   \n",
       "flat_model_encode       -0.059292           1.000000    -0.094086   \n",
       "town_encode             -0.052248          -0.094086     1.000000   \n",
       "year_month_encode        0.043731          -0.008490    -0.006319   \n",
       "\n",
       "                      year_month_encode  \n",
       "floor_area_sqm                 0.006298  \n",
       "lease_commence_date            0.085741  \n",
       "resale_price                  -0.089542  \n",
       "resale_price_per_sqm          -0.145104  \n",
       "flat_type_num                  0.005706  \n",
       "lower_floor                    0.083789  \n",
       "upper_floor                    0.043731  \n",
       "flat_model_encode             -0.008490  \n",
       "town_encode                   -0.006319  \n",
       "year_month_encode              1.000000  "
      ]
     },
     "execution_count": 36,
     "metadata": {},
     "output_type": "execute_result"
    }
   ],
   "source": [
    "# correlation matrix (ranges from 1 to -1)\n",
    "HDB.corr()"
   ]
  },
  {
   "cell_type": "code",
   "execution_count": 37,
   "metadata": {},
   "outputs": [
    {
     "data": {
      "text/plain": [
       "<matplotlib.axes._subplots.AxesSubplot at 0x11c36bb10>"
      ]
     },
     "execution_count": 37,
     "metadata": {},
     "output_type": "execute_result"
    },
    {
     "data": {
      "image/png": "[encoded data removed]",
      "text/plain": [
       "<matplotlib.figure.Figure at 0x120df8d50>"
      ]
     },
     "metadata": {},
     "output_type": "display_data"
    }
   ],
   "source": [
    "# visualize correlation matrix in Seaborn using a heatmap\n",
    "sns.heatmap(HDB.corr())"
   ]
  },
  {
   "cell_type": "code",
   "execution_count": 38,
   "metadata": {},
   "outputs": [
    {
     "name": "stdout",
     "output_type": "stream",
     "text": [
      "-1909262.48368\n",
      "[  1789.58221582  47216.36366163   -125.11028397   1001.98536779]\n"
     ]
    }
   ],
   "source": [
    "# create X and y\n",
    "X = HDB[feature_cols]\n",
    "y = HDB.resale_price\n",
    "\n",
    "# instantiate and fit\n",
    "linreg = LinearRegression()\n",
    "linreg.fit(X, y)\n",
    "\n",
    "# print the coefficients\n",
    "print linreg.intercept_\n",
    "print linreg.coef_"
   ]
  },
  {
   "cell_type": "code",
   "execution_count": 39,
   "metadata": {},
   "outputs": [
    {
     "data": {
      "text/plain": [
       "[('floor_area_sqm', 1789.5822158194478),\n",
       " ('flat_type_num', 47216.363661625786),\n",
       " ('flat_model_encode', -125.11028396598897),\n",
       " ('lease_commence_date', 1001.9853677864116)]"
      ]
     },
     "execution_count": 39,
     "metadata": {},
     "output_type": "execute_result"
    }
   ],
   "source": [
    "# pair the feature names with the coefficients\n",
    "zip(feature_cols, linreg.coef_)"
   ]
  },
  {
   "cell_type": "markdown",
   "metadata": {},
   "source": [
    "Interpreting the coefficients:\n",
    "Holding all other features fixed, a 1 sqm increase in floor_area_sqm is associated with a resale price increase of S$1789.58.\n",
    "Holding all other features fixed, an improvement in flat type is associated with a resale price increase of S$47216.\n",
    "Holding all other features fixed, a year decrease in lease_commence_period is associated with a resale price increase of S$1001."
   ]
  },
  {
   "cell_type": "markdown",
   "metadata": {},
   "source": [
    "## Comparing models with train/test split and RMSE"
   ]
  },
  {
   "cell_type": "code",
   "execution_count": 40,
   "metadata": {},
   "outputs": [
    {
     "name": "stderr",
     "output_type": "stream",
     "text": [
      "/Users/paulinekoh/anaconda/lib/python2.7/site-packages/sklearn/cross_validation.py:44: DeprecationWarning: This module was deprecated in version 0.18 in favor of the model_selection module into which all the refactored classes and functions are moved. Also note that the interface of the new CV iterators are different from that of this module. This module will be removed in 0.20.\n",
      "  \"This module will be removed in 0.20.\", DeprecationWarning)\n"
     ]
    }
   ],
   "source": [
    "from sklearn import metrics\n",
    "import numpy as np\n",
    "from sklearn.cross_validation import train_test_split\n",
    "\n",
    "# define a function that accepts a list of features and returns testing RMSE\n",
    "def train_test_rmse(feature_cols):\n",
    "    X = HDB[feature_cols]\n",
    "    y = HDB.resale_price\n",
    "    X_train, X_test, y_train, y_test = train_test_split(X, y, random_state=123)\n",
    "    linreg = LinearRegression()\n",
    "    linreg.fit(X_train, y_train)\n",
    "    y_pred = linreg.predict(X_test)\n",
    "    return np.sqrt(metrics.mean_squared_error(y_test, y_pred))"
   ]
  },
  {
   "cell_type": "code",
   "execution_count": 41,
   "metadata": {},
   "outputs": [
    {
     "name": "stdout",
     "output_type": "stream",
     "text": [
      "92669.4936735\n",
      "92670.7415876\n",
      "93134.4706585\n"
     ]
    }
   ],
   "source": [
    "# compare different sets of features\n",
    "print train_test_rmse(['floor_area_sqm', 'flat_type_num', 'flat_model_encode', 'lease_commence_date'])\n",
    "print train_test_rmse(['floor_area_sqm', 'flat_type_num', 'lease_commence_date'])\n",
    "print train_test_rmse(['floor_area_sqm', 'flat_type_num', 'flat_model_encode'])"
   ]
  },
  {
   "cell_type": "markdown",
   "metadata": {
    "collapsed": true
   },
   "source": [
    "# Comparing testing RMSE with null RMSE\n",
    "Null RMSE is the RMSE that could be achieved by always predicting the mean response value. It is a benchmark against which you may want to measure your regression model"
   ]
  },
  {
   "cell_type": "code",
   "execution_count": 42,
   "metadata": {},
   "outputs": [
    {
     "data": {
      "text/plain": [
       "array([ 450123.47355769,  450123.47355769,  450123.47355769, ...,\n",
       "        450123.47355769,  450123.47355769,  450123.47355769])"
      ]
     },
     "execution_count": 42,
     "metadata": {},
     "output_type": "execute_result"
    }
   ],
   "source": [
    "# split X and y into training and testing sets\n",
    "X_train, X_test, y_train, y_test = train_test_split(X, y, random_state=123)\n",
    "\n",
    "# create a NumPy array with the same shape as y_test\n",
    "y_null = np.zeros_like(y_test, dtype=float)\n",
    "\n",
    "# fill the array with the mean value of y_test\n",
    "y_null.fill(y_test.mean())\n",
    "y_null"
   ]
  },
  {
   "cell_type": "code",
   "execution_count": 43,
   "metadata": {},
   "outputs": [
    {
     "data": {
      "text/plain": [
       "130815.83288962532"
      ]
     },
     "execution_count": 43,
     "metadata": {},
     "output_type": "execute_result"
    }
   ],
   "source": [
    "# compute null RMSE\n",
    "np.sqrt(metrics.mean_squared_error(y_test, y_null))"
   ]
  },
  {
   "cell_type": "markdown",
   "metadata": {},
   "source": [
    "# XGBoost"
   ]
  },
  {
   "cell_type": "code",
   "execution_count": 44,
   "metadata": {
    "collapsed": true
   },
   "outputs": [],
   "source": [
    "import pandas as pd\n",
    "from xgboost import XGBRegressor\n",
    "import matplotlib.pyplot as plt\n",
    "%matplotlib inline"
   ]
  },
  {
   "cell_type": "markdown",
   "metadata": {},
   "source": [
    "# Train the classifier"
   ]
  },
  {
   "cell_type": "code",
   "execution_count": 45,
   "metadata": {},
   "outputs": [
    {
     "data": {
      "text/plain": [
       "XGBRegressor(base_score=0.5, colsample_bylevel=1, colsample_bytree=1, gamma=0,\n",
       "       learning_rate=0.1, max_delta_step=0, max_depth=3,\n",
       "       min_child_weight=1, missing=None, n_estimators=100, nthread=-1,\n",
       "       objective='reg:linear', reg_alpha=0, reg_lambda=1,\n",
       "       scale_pos_weight=1, seed=0, silent=True, subsample=1)"
      ]
     },
     "execution_count": 45,
     "metadata": {},
     "output_type": "execute_result"
    }
   ],
   "source": [
    "model = XGBRegressor()\n",
    "model.fit(X, y)"
   ]
  },
  {
   "cell_type": "markdown",
   "metadata": {},
   "source": [
    "# Evaluate"
   ]
  },
  {
   "cell_type": "code",
   "execution_count": 46,
   "metadata": {},
   "outputs": [
    {
     "ename": "ValueError",
     "evalue": "continuous is not supported",
     "output_type": "error",
     "traceback": [
      "\u001b[0;31m---------------------------------------------------------------------------\u001b[0m",
      "\u001b[0;31mValueError\u001b[0m                                Traceback (most recent call last)",
      "\u001b[0;32m<ipython-input-46-a9c12672fc90>\u001b[0m in \u001b[0;36m<module>\u001b[0;34m()\u001b[0m\n\u001b[1;32m      4\u001b[0m \u001b[0;31m# make predictions for data and evaluate\u001b[0m\u001b[0;34m\u001b[0m\u001b[0;34m\u001b[0m\u001b[0m\n\u001b[1;32m      5\u001b[0m \u001b[0my_pred\u001b[0m \u001b[0;34m=\u001b[0m \u001b[0mmodel\u001b[0m\u001b[0;34m.\u001b[0m\u001b[0mpredict\u001b[0m\u001b[0;34m(\u001b[0m\u001b[0mX\u001b[0m\u001b[0;34m)\u001b[0m\u001b[0;34m\u001b[0m\u001b[0m\n\u001b[0;32m----> 6\u001b[0;31m \u001b[0maccuracy\u001b[0m \u001b[0;34m=\u001b[0m \u001b[0maccuracy_score\u001b[0m\u001b[0;34m(\u001b[0m\u001b[0my\u001b[0m\u001b[0;34m,\u001b[0m \u001b[0my_pred\u001b[0m\u001b[0;34m)\u001b[0m\u001b[0;34m\u001b[0m\u001b[0m\n\u001b[0m\u001b[1;32m      7\u001b[0m \u001b[0;32mprint\u001b[0m\u001b[0;34m(\u001b[0m\u001b[0;34m\"Accuracy: %.2f%%\"\u001b[0m \u001b[0;34m%\u001b[0m \u001b[0;34m(\u001b[0m\u001b[0maccuracy\u001b[0m \u001b[0;34m*\u001b[0m \u001b[0;36m100.0\u001b[0m\u001b[0;34m)\u001b[0m\u001b[0;34m)\u001b[0m\u001b[0;34m\u001b[0m\u001b[0m\n\u001b[1;32m      8\u001b[0m \u001b[0;34m\u001b[0m\u001b[0m\n",
      "\u001b[0;32m/Users/paulinekoh/anaconda/lib/python2.7/site-packages/sklearn/metrics/classification.pyc\u001b[0m in \u001b[0;36maccuracy_score\u001b[0;34m(y_true, y_pred, normalize, sample_weight)\u001b[0m\n\u001b[1;32m    170\u001b[0m \u001b[0;34m\u001b[0m\u001b[0m\n\u001b[1;32m    171\u001b[0m     \u001b[0;31m# Compute accuracy for each possible representation\u001b[0m\u001b[0;34m\u001b[0m\u001b[0;34m\u001b[0m\u001b[0m\n\u001b[0;32m--> 172\u001b[0;31m     \u001b[0my_type\u001b[0m\u001b[0;34m,\u001b[0m \u001b[0my_true\u001b[0m\u001b[0;34m,\u001b[0m \u001b[0my_pred\u001b[0m \u001b[0;34m=\u001b[0m \u001b[0m_check_targets\u001b[0m\u001b[0;34m(\u001b[0m\u001b[0my_true\u001b[0m\u001b[0;34m,\u001b[0m \u001b[0my_pred\u001b[0m\u001b[0;34m)\u001b[0m\u001b[0;34m\u001b[0m\u001b[0m\n\u001b[0m\u001b[1;32m    173\u001b[0m     \u001b[0;32mif\u001b[0m \u001b[0my_type\u001b[0m\u001b[0;34m.\u001b[0m\u001b[0mstartswith\u001b[0m\u001b[0;34m(\u001b[0m\u001b[0;34m'multilabel'\u001b[0m\u001b[0;34m)\u001b[0m\u001b[0;34m:\u001b[0m\u001b[0;34m\u001b[0m\u001b[0m\n\u001b[1;32m    174\u001b[0m         \u001b[0mdiffering_labels\u001b[0m \u001b[0;34m=\u001b[0m \u001b[0mcount_nonzero\u001b[0m\u001b[0;34m(\u001b[0m\u001b[0my_true\u001b[0m \u001b[0;34m-\u001b[0m \u001b[0my_pred\u001b[0m\u001b[0;34m,\u001b[0m \u001b[0maxis\u001b[0m\u001b[0;34m=\u001b[0m\u001b[0;36m1\u001b[0m\u001b[0;34m)\u001b[0m\u001b[0;34m\u001b[0m\u001b[0m\n",
      "\u001b[0;32m/Users/paulinekoh/anaconda/lib/python2.7/site-packages/sklearn/metrics/classification.pyc\u001b[0m in \u001b[0;36m_check_targets\u001b[0;34m(y_true, y_pred)\u001b[0m\n\u001b[1;32m     87\u001b[0m     \u001b[0;31m# No metrics support \"multiclass-multioutput\" format\u001b[0m\u001b[0;34m\u001b[0m\u001b[0;34m\u001b[0m\u001b[0m\n\u001b[1;32m     88\u001b[0m     \u001b[0;32mif\u001b[0m \u001b[0;34m(\u001b[0m\u001b[0my_type\u001b[0m \u001b[0;32mnot\u001b[0m \u001b[0;32min\u001b[0m \u001b[0;34m[\u001b[0m\u001b[0;34m\"binary\"\u001b[0m\u001b[0;34m,\u001b[0m \u001b[0;34m\"multiclass\"\u001b[0m\u001b[0;34m,\u001b[0m \u001b[0;34m\"multilabel-indicator\"\u001b[0m\u001b[0;34m]\u001b[0m\u001b[0;34m)\u001b[0m\u001b[0;34m:\u001b[0m\u001b[0;34m\u001b[0m\u001b[0m\n\u001b[0;32m---> 89\u001b[0;31m         \u001b[0;32mraise\u001b[0m \u001b[0mValueError\u001b[0m\u001b[0;34m(\u001b[0m\u001b[0;34m\"{0} is not supported\"\u001b[0m\u001b[0;34m.\u001b[0m\u001b[0mformat\u001b[0m\u001b[0;34m(\u001b[0m\u001b[0my_type\u001b[0m\u001b[0;34m)\u001b[0m\u001b[0;34m)\u001b[0m\u001b[0;34m\u001b[0m\u001b[0m\n\u001b[0m\u001b[1;32m     90\u001b[0m \u001b[0;34m\u001b[0m\u001b[0m\n\u001b[1;32m     91\u001b[0m     \u001b[0;32mif\u001b[0m \u001b[0my_type\u001b[0m \u001b[0;32min\u001b[0m \u001b[0;34m[\u001b[0m\u001b[0;34m\"binary\"\u001b[0m\u001b[0;34m,\u001b[0m \u001b[0;34m\"multiclass\"\u001b[0m\u001b[0;34m]\u001b[0m\u001b[0;34m:\u001b[0m\u001b[0;34m\u001b[0m\u001b[0m\n",
      "\u001b[0;31mValueError\u001b[0m: continuous is not supported"
     ]
    }
   ],
   "source": [
    "from sklearn.metrics import accuracy_score\n",
    "from sklearn.metrics import precision_recall_fscore_support\n",
    "\n",
    "# make predictions for data and evaluate\n",
    "y_pred = model.predict(X)\n",
    "accuracy = accuracy_score(y, y_pred)\n",
    "print(\"Accuracy: %.2f%%\" % (accuracy * 100.0))\n",
    "\n",
    "from sklearn.metrics import average_precision_score\n",
    "average_precision = average_precision_score(y, y_pred)\n",
    "\n",
    "print('Average precision-recall score: {0:0.2f}'.format(\n",
    "      average_precision))\n",
    "\n",
    "from sklearn.metrics import roc_auc_score\n",
    "print('AUC: %f' % roc_auc_score(y, y_pred))"
   ]
  },
  {
   "cell_type": "code",
   "execution_count": null,
   "metadata": {
    "collapsed": true
   },
   "outputs": [],
   "source": [
    "from sklearn.metrics import confusion_matrix\n",
    "print(confusion_matrix(y, y_pred))\n",
    "tn, fp, fn, tp = confusion_matrix(y, y_pred).ravel()\n",
    "print('Precision: %f' % (float(tp)/(tp + fp)))\n",
    "print('Recal: %f' % (float(tp)/(tp + fn)))"
   ]
  },
  {
   "cell_type": "code",
   "execution_count": null,
   "metadata": {
    "collapsed": true
   },
   "outputs": [],
   "source": [
    "import numpy as np\n",
    "p_range = np.arange(0.1, 1, 0.1) \n",
    "p_range\n",
    "precisions = []\n",
    "recalls = []\n",
    "f1s = []\n",
    "xgb = XGBRegressor()\n",
    "xgb.fit(X, y)\n",
    "\n",
    "pred = xgb.predict_proba(X)\n",
    "for p in p_range:\n",
    "\n",
    "    pred_tmp = pred[:, 1].copy()\n",
    "    pred_tmp[pred_tmp > p] = 1\n",
    "    pred_tmp[pred_tmp <= p] = 0\n",
    "    tn, fp, fn, tp = confusion_matrix(y, pred_tmp).ravel()\n",
    "    prec = (float(tp)/(tp + fp))\n",
    "    rec = (float(tp)/(tp + fn))\n",
    "    f1 = 2 * prec * rec / (prec + rec)\n",
    "    precisions.append(prec)\n",
    "    recalls.append(rec)\n",
    "    f1s.append(f1)\n",
    "\n",
    "# plot the results\n",
    "plt.plot(p_range, precisions, 'k', label='Precision')\n",
    "plt.plot(p_range, recalls, 'g', label='Recall')\n",
    "plt.plot(p_range, f1s, 'b', label='F1')\n",
    "plt.xlabel('P Range')\n",
    "plt.ylabel('Score')\n",
    "plt.grid(True)\n",
    "plt.legend(bbox_to_anchor=(1.05, 1))"
   ]
  },
  {
   "cell_type": "code",
   "execution_count": null,
   "metadata": {
    "collapsed": true
   },
   "outputs": [],
   "source": [
    "pred = xgb.predict_proba(X)\n",
    "# decide use p = 0.4 as threshold\n",
    "p = 0.4\n",
    "pred_final = pred[:, 1].copy()\n",
    "pred_final[pred_final > p] = 1\n",
    "pred_final[pred_final <= p] = 0\n",
    "\n",
    "tn, fp, fn, tp = confusion_matrix(y, pred_final).ravel()\n",
    "print('Precision: %f' % (float(tp)/(tp + fp)))\n",
    "print('Recal: %f' % (float(tp)/(tp + fn)))"
   ]
  },
  {
   "cell_type": "code",
   "execution_count": null,
   "metadata": {
    "collapsed": true
   },
   "outputs": [],
   "source": [
    "y_pred_prob = model.predict_proba(X)\n",
    "import matplotlib.pyplot as plt\n",
    "%matplotlib inline\n",
    "plt.hist(y_pred_prob[:, 1], bins=100)\n",
    "plt.title(\"Train Set Predict Prob\")\n",
    "plt.xlabel(\"Predict Prob\")\n",
    "plt.ylabel(\"Frequency\")"
   ]
  },
  {
   "cell_type": "code",
   "execution_count": null,
   "metadata": {
    "collapsed": true
   },
   "outputs": [],
   "source": [
    "from xgboost import plot_importance\n",
    "plot_importance(model)\n",
    "plt.rcParams[\"font.size\"] = 20\n",
    "print(plt.rcParams[\"font.size\"])\n",
    "plt.xticks(size=25)\n",
    "plt.yticks(size=25)\n",
    "plt.xlabel('F-score', fontsize=30)\n",
    "plt.ylabel('Features', fontsize=30)\n",
    "plt.title('Feature importance', fontsize=30)\n",
    "plt.show()\n",
    "\n",
    "plt.rcParams[\"figure.figsize\"] = [40, 40]"
   ]
  },
  {
   "cell_type": "code",
   "execution_count": null,
   "metadata": {
    "collapsed": true
   },
   "outputs": [],
   "source": []
  },
  {
   "cell_type": "code",
   "execution_count": null,
   "metadata": {
    "collapsed": true
   },
   "outputs": [],
   "source": []
  },
  {
   "cell_type": "code",
   "execution_count": null,
   "metadata": {
    "collapsed": true
   },
   "outputs": [],
   "source": []
  },
  {
   "cell_type": "code",
   "execution_count": null,
   "metadata": {
    "collapsed": true
   },
   "outputs": [],
   "source": []
  },
  {
   "cell_type": "code",
   "execution_count": null,
   "metadata": {
    "collapsed": true
   },
   "outputs": [],
   "source": []
  },
  {
   "cell_type": "code",
   "execution_count": null,
   "metadata": {
    "collapsed": true
   },
   "outputs": [],
   "source": []
  }
 ],
 "metadata": {
  "kernelspec": {
   "display_name": "Python 2",
   "language": "python",
   "name": "python2"
  },
  "language_info": {
   "codemirror_mode": {
    "name": "ipython",
    "version": 2
   },
   "file_extension": ".py",
   "mimetype": "text/x-python",
   "name": "python",
   "nbconvert_exporter": "python",
   "pygments_lexer": "ipython2",
   "version": "2.7.13"
  }
 },
 "nbformat": 4,
 "nbformat_minor": 2
}
